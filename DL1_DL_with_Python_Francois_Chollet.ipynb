{
  "nbformat": 4,
  "nbformat_minor": 0,
  "metadata": {
    "colab": {
      "provenance": [],
      "authorship_tag": "ABX9TyOb13lRnzJAbTD66NKHWDMX",
      "include_colab_link": true
    },
    "kernelspec": {
      "name": "python3",
      "display_name": "Python 3"
    },
    "language_info": {
      "name": "python"
    }
  },
  "cells": [
    {
      "cell_type": "markdown",
      "metadata": {
        "id": "view-in-github",
        "colab_type": "text"
      },
      "source": [
        "<a href=\"https://colab.research.google.com/github/BahruzHuseynov/Medium/blob/main/DL1_DL_with_Python_Francois_Chollet.ipynb\" target=\"_parent\"><img src=\"https://colab.research.google.com/assets/colab-badge.svg\" alt=\"Open In Colab\"/></a>"
      ]
    },
    {
      "cell_type": "markdown",
      "source": [
        "# Deep Learning with Python by François Chollet"
      ],
      "metadata": {
        "id": "Hw5V2sWvroaU"
      }
    },
    {
      "cell_type": "markdown",
      "source": [
        "<a href = \"https://zerotomastery.io/cheatsheets/tensorflow-cheat-sheet/\"> <button> TensorFlow CheatSheet Website </button> </a>"
      ],
      "metadata": {
        "id": "02Tc0rxiTO-m"
      }
    },
    {
      "cell_type": "markdown",
      "source": [
        "<h3> Part 1 - Fundamentals of Deep Learning <br> Part 2 - Deep Learning in Practice </h3>"
      ],
      "metadata": {
        "id": "ziy83mqirodD"
      }
    },
    {
      "cell_type": "markdown",
      "source": [
        "### About the book\n",
        "\n",
        "This book is designed for individuals interested in delving into the field of deep learning or enhancing their existing knowledge. It caters to machine-learning engineers, software developers, and college students, providing a hands-on approach to exploring deep learning without relying heavily on mathematical notation. The content is conveyed through over 30 code examples using the Keras framework, backed by TensorFlow, a widely recommended tool for beginners in deep learning. By the end of the book, readers will gain a solid understanding of deep learning, its applications, limitations, and practical skills to address machine-learning problems using Keras for tasks such as image classification, timeseries forecasting, sentiment analysis, and more."
      ],
      "metadata": {
        "id": "RnYV_zMksoVa"
      }
    },
    {
      "cell_type": "markdown",
      "source": [
        "<img src = \"https://pyimagesearch.com/wp-content/uploads/2019/10/keras_vs_tfdotkeras_header.png\">"
      ],
      "metadata": {
        "id": "Cw_Y6zHCtQp4"
      }
    },
    {
      "cell_type": "markdown",
      "source": [
        "# Chapter 1 - What is Deep Learning?\n",
        "#### Currently, We’re promised a future of intelligent chatbots, self-driving cars, and virtual assistants due to the advancements in Artificial Intelligence and this chapter provides essential context around AI, Machine Learning and Deep Learning."
      ],
      "metadata": {
        "id": "jCPo948HtxYq"
      }
    },
    {
      "cell_type": "markdown",
      "source": [
        "<img src = \"https://velog.velcdn.com/images%2Fgabie0208%2Fpost%2Fca9f20f5-b4eb-4d8e-9d53-2de8609bd9ef%2F%EC%8A%A4%ED%81%AC%EB%A6%B0%EC%83%B7%202021-09-17%20%EC%98%A4%ED%9B%84%2012.11.46.png\">"
      ],
      "metadata": {
        "id": "PjXTR1yGt8YL"
      }
    },
    {
      "cell_type": "markdown",
      "source": [
        "### 1.1. Artificial Intelligence, Machine Learning and Deep Learning"
      ],
      "metadata": {
        "id": "vZSzB3ygzpJE"
      }
    },
    {
      "cell_type": "markdown",
      "source": [
        "#### Artificial intelligence (AI) emerged in the 1950s as computer science pioneers pondered the possibility of creating thinking machines. At that time, computers could handle playing chess and solving logical problems by the help of Symbolic AI. This continued from the 1950s to the late 1980s. Although Symbolic AI was efficient, it turned out to be intractable to figure out explicit rules for solving more complex, fuzzy problems, such as image classification, speech recognition, and language translation. A new approach arose to take symbolic AI’s place: machine learning.\n",
        "\n",
        "#### Machine learning arises from this question: could a computer go beyond “what we know how to order it to perform” and learn on its own how to perform a specified task?\n",
        "\n",
        "<img src = \"https://drek4537l1klr.cloudfront.net/cai/v-1/Figures/01_02.png\">\n",
        "\n",
        "#### A machine-learning system is trained rather than explicitly programmed. It’s presented with many examples relevant to a task, and it finds statistical structure in these examples that eventually allows the system to come up with rules for automating the task.\n",
        "\n",
        "#### To comprehend deep learning and distinguish it from other machine-learning methods, it's essential to grasp the fundamental functions of machine-learning algorithms. Machine learning involves the discovery of rules to perform data-processing tasks based on provided examples. Three key components are necessary for machine learning:\n",
        "\n",
        "- Input Data Points: These are the raw data used for the task, such as sound files for speech recognition or images for image tagging.\n",
        "\n",
        "- Examples of Expected Output: These are instances of the anticipated results, like transcripts for speech files or tags like \"dog\" or \"cat\" for images.\n",
        "\n",
        "- Performance Measurement: An evaluation metric is needed to assess how well the algorithm is performing. This feedback signal is crucial for adjusting the algorithm, a step referred to as learning.\n",
        "\n",
        "#### The core challenge in both machine learning and deep learning is to transform data meaningfully, learning representations that bring the model closer to the expected output. A representation, in essence, is an encoded way of looking at data. For instance, a color image can be represented in RGB or HSV formats, each providing a different perspective. Machine-learning models focus on discovering suitable representations that enhance the data's utility for the given task, such as classification.\n",
        "\n",
        "#### Let’s make this concrete. Consider an x-axis, a y-axis, and some points represented by their coordinates in the (x, y) system, as shown in figure 1.4. As you can see, we have a few white points and a few black points. Let’s say we want to develop an algorithm that can take the coordinates (x, y) of a point and output whether that point is likely to be black or to be white. So, after conversion we can say that if x > 0, it is black point, otherwise it is white point.\n",
        "\n",
        "<img src = \"https://drek4537l1klr.cloudfront.net/chollet2/v-3/Figures/ch01-learning_representations.png\">\n",
        "\n",
        "#### Deep learning is a part of machine learning that focuses on learning meaningful layers of data representations. The \"deep\" refers to having many layers, or the depth of the model. Unlike other machine learning, which may only use a few layers (shallow learning), deep learning often involves many layers automatically learned from data. In deep learning, these layered representations are typically learned through neural networks, stacked layers of connections. Although the term \"neural network\" is inspired by biology, deep learning models are not models of the brain. There is no evidence supporting direct connections between deep learning and neurobiology. It's important to see deep learning as a mathematical framework for learning from data, without mystical associations with the brain.\n",
        "\n",
        "<img src = \"https://drek4537l1klr.cloudfront.net/chollet/Figures/01fig06_alt.jpg\">\n",
        "\n",
        "#### The picture below represents how Forward Propagation and Back Propagation works in the Neural Networks.\n",
        "<img src = \"https://drek4537l1klr.cloudfront.net/chollet/Figures/01fig09.jpg\">"
      ],
      "metadata": {
        "id": "eYsJxiYXt8au"
      }
    },
    {
      "cell_type": "markdown",
      "source": [
        "### 1.2 Before Deep Learning. A brief history of Machine Learning"
      ],
      "metadata": {
        "id": "BZaMkYfwxdNC"
      }
    },
    {
      "cell_type": "markdown",
      "source": [],
      "metadata": {
        "id": "i-Nv6KwN2NpU"
      }
    },
    {
      "cell_type": "markdown",
      "source": [],
      "metadata": {
        "id": "nfhZmCaW2Nr5"
      }
    },
    {
      "cell_type": "markdown",
      "source": [
        "# Chapter 2 - Before we begin: The mathemarical building blocks of neural networks\n",
        "#### In this chapter, many simple mathematical concepts (tensors, tensor operations, differentiation, gradient descent, and so on) will be intuitively explained."
      ],
      "metadata": {
        "id": "Yqtw5WOl2Nt5"
      }
    },
    {
      "cell_type": "markdown",
      "source": [
        "### 2.1 A first look at a neural network\n",
        "#### MNIST dataset - Hello World of Deep Learning"
      ],
      "metadata": {
        "id": "8zKJHMsx2SqR"
      }
    },
    {
      "cell_type": "code",
      "source": [
        "# Import libraries\n",
        "import tensorflow as tf\n",
        "from tensorflow import keras\n",
        "from keras import models, layers\n",
        "from keras.utils import to_categorical\n",
        "\n",
        "import numpy as np\n",
        "import pandas as pd\n",
        "import matplotlib.pyplot as plt"
      ],
      "metadata": {
        "id": "vOfgSk9tsGRG"
      },
      "execution_count": 71,
      "outputs": []
    },
    {
      "cell_type": "code",
      "source": [
        "from keras.datasets import mnist\n",
        "(train_images, train_labels), (test_images, test_labels) = mnist.load_data()"
      ],
      "metadata": {
        "id": "jPv6tf0p3Z1z"
      },
      "execution_count": 41,
      "outputs": []
    },
    {
      "cell_type": "code",
      "source": [
        "train_images.shape"
      ],
      "metadata": {
        "colab": {
          "base_uri": "https://localhost:8080/"
        },
        "id": "CNfQ9gKP3rvU",
        "outputId": "29cdf721-d533-440e-87e6-b71f4e49ef4b"
      },
      "execution_count": 4,
      "outputs": [
        {
          "output_type": "execute_result",
          "data": {
            "text/plain": [
              "(60000, 28, 28)"
            ]
          },
          "metadata": {},
          "execution_count": 4
        }
      ]
    },
    {
      "cell_type": "code",
      "source": [
        "train_labels"
      ],
      "metadata": {
        "colab": {
          "base_uri": "https://localhost:8080/"
        },
        "id": "I9ANoz9z3uDt",
        "outputId": "46a8b304-4a65-40c5-d135-93e902bfde17"
      },
      "execution_count": 5,
      "outputs": [
        {
          "output_type": "execute_result",
          "data": {
            "text/plain": [
              "array([5, 0, 4, ..., 5, 6, 8], dtype=uint8)"
            ]
          },
          "metadata": {},
          "execution_count": 5
        }
      ]
    },
    {
      "cell_type": "code",
      "source": [
        "test_images.shape"
      ],
      "metadata": {
        "colab": {
          "base_uri": "https://localhost:8080/"
        },
        "id": "N-VjkNaJ3w0Z",
        "outputId": "c1569341-e97c-4526-a2a9-c2691c564f25"
      },
      "execution_count": 6,
      "outputs": [
        {
          "output_type": "execute_result",
          "data": {
            "text/plain": [
              "(10000, 28, 28)"
            ]
          },
          "metadata": {},
          "execution_count": 6
        }
      ]
    },
    {
      "cell_type": "code",
      "source": [
        "test_labels"
      ],
      "metadata": {
        "colab": {
          "base_uri": "https://localhost:8080/"
        },
        "id": "2nLsXjg836Qv",
        "outputId": "bbcaca90-fa93-4f0f-a94f-a63fea82b7c3"
      },
      "execution_count": 7,
      "outputs": [
        {
          "output_type": "execute_result",
          "data": {
            "text/plain": [
              "array([7, 2, 1, ..., 4, 5, 6], dtype=uint8)"
            ]
          },
          "metadata": {},
          "execution_count": 7
        }
      ]
    },
    {
      "cell_type": "code",
      "source": [
        "print(np.unique(test_labels))\n",
        "print(set(test_labels))"
      ],
      "metadata": {
        "colab": {
          "base_uri": "https://localhost:8080/"
        },
        "id": "DwApW1tZ36Sx",
        "outputId": "0133c74e-f2fa-4f75-9b05-baf05272b38c"
      },
      "execution_count": 12,
      "outputs": [
        {
          "output_type": "stream",
          "name": "stdout",
          "text": [
            "[0 1 2 3 4 5 6 7 8 9]\n",
            "{0, 1, 2, 3, 4, 5, 6, 7, 8, 9}\n"
          ]
        }
      ]
    },
    {
      "cell_type": "code",
      "source": [
        "# Building Neural Network\n",
        "network = models.Sequential([\n",
        "    layers.Dense(512, activation = 'relu', input_shape = (28 * 28, )),\n",
        "    layers.Dense(10, activation = 'softmax')\n",
        "])\n",
        "\n",
        "# OR\n",
        "# network = models.Sequential()\n",
        "# network.add(layers.Dense(512, activation='relu', input_shape=(28 * 28,)))\n",
        "# network.add(layers.Dense(10, activation='softmax'))\n",
        "\n",
        "# Functional APIs\n",
        "# input_tensor = layers.Input(shape=(784,))\n",
        "# x = layers.Dense(32, activation='relu')(input_tensor)\n",
        "# output_tensor = layers.Dense(10, activation='softmax')(x)\n",
        "# model = models.Model(inputs=input_tensor, outputs=output_tensor)"
      ],
      "metadata": {
        "id": "ItQtwpAz36YK"
      },
      "execution_count": 15,
      "outputs": []
    },
    {
      "cell_type": "code",
      "source": [
        "# Compilation\n",
        "network.compile(optimizer='rmsprop', loss='categorical_crossentropy', metrics=['accuracy'])"
      ],
      "metadata": {
        "id": "PfpgwUsA4NpP"
      },
      "execution_count": 16,
      "outputs": []
    },
    {
      "cell_type": "code",
      "source": [
        "# Data Normalization before training\n",
        "train_images = train_images.reshape((60000, 28 * 28))\n",
        "train_images = train_images.astype('float32') / 255\n",
        "test_images = test_images.reshape((10000, 28 * 28))\n",
        "test_images = test_images.astype('float32') / 255"
      ],
      "metadata": {
        "id": "r2FpZWBj4NtW"
      },
      "execution_count": 17,
      "outputs": []
    },
    {
      "cell_type": "code",
      "source": [
        "train_labels = to_categorical(train_labels)\n",
        "test_labels = to_categorical(test_labels)"
      ],
      "metadata": {
        "id": "zjxG09rs4Nwo"
      },
      "execution_count": 19,
      "outputs": []
    },
    {
      "cell_type": "code",
      "source": [
        "train_labels[0] # 5"
      ],
      "metadata": {
        "colab": {
          "base_uri": "https://localhost:8080/"
        },
        "id": "yCfgsL9l5bRF",
        "outputId": "3f4783e9-9a1f-4dc9-aa89-21221a53f555"
      },
      "execution_count": 20,
      "outputs": [
        {
          "output_type": "execute_result",
          "data": {
            "text/plain": [
              "array([0., 0., 0., 0., 0., 1., 0., 0., 0., 0.], dtype=float32)"
            ]
          },
          "metadata": {},
          "execution_count": 20
        }
      ]
    },
    {
      "cell_type": "code",
      "source": [
        "train_labels[0].argmax() # Represents the label"
      ],
      "metadata": {
        "colab": {
          "base_uri": "https://localhost:8080/"
        },
        "id": "30CiXs565bTl",
        "outputId": "00e4ce12-32f6-4c62-e3c3-b27f55cf3a6b"
      },
      "execution_count": 22,
      "outputs": [
        {
          "output_type": "execute_result",
          "data": {
            "text/plain": [
              "5"
            ]
          },
          "metadata": {},
          "execution_count": 22
        }
      ]
    },
    {
      "cell_type": "code",
      "source": [
        "# Training\n",
        "network.fit(train_images, train_labels, epochs = 5, batch_size = 128)"
      ],
      "metadata": {
        "colab": {
          "base_uri": "https://localhost:8080/"
        },
        "id": "LU2I2k2p5wc8",
        "outputId": "8fc8afda-ce32-4144-bbdc-e8e4ed39bb22"
      },
      "execution_count": 23,
      "outputs": [
        {
          "output_type": "stream",
          "name": "stdout",
          "text": [
            "Epoch 1/5\n",
            "469/469 [==============================] - 6s 12ms/step - loss: 0.2605 - accuracy: 0.9262\n",
            "Epoch 2/5\n",
            "469/469 [==============================] - 5s 10ms/step - loss: 0.1062 - accuracy: 0.9689\n",
            "Epoch 3/5\n",
            "469/469 [==============================] - 4s 9ms/step - loss: 0.0695 - accuracy: 0.9797\n",
            "Epoch 4/5\n",
            "469/469 [==============================] - 6s 13ms/step - loss: 0.0505 - accuracy: 0.9852\n",
            "Epoch 5/5\n",
            "469/469 [==============================] - 8s 17ms/step - loss: 0.0381 - accuracy: 0.9882\n"
          ]
        },
        {
          "output_type": "execute_result",
          "data": {
            "text/plain": [
              "<keras.src.callbacks.History at 0x7ad42e35c700>"
            ]
          },
          "metadata": {},
          "execution_count": 23
        }
      ]
    },
    {
      "cell_type": "code",
      "source": [
        "# Testing\n",
        "network.evaluate(test_images, test_labels)"
      ],
      "metadata": {
        "colab": {
          "base_uri": "https://localhost:8080/"
        },
        "id": "8zTbdmKy6BCM",
        "outputId": "4e741b1d-588e-43a5-c13f-42714201aa79"
      },
      "execution_count": 24,
      "outputs": [
        {
          "output_type": "stream",
          "name": "stdout",
          "text": [
            "313/313 [==============================] - 1s 4ms/step - loss: 0.0719 - accuracy: 0.9768\n"
          ]
        },
        {
          "output_type": "execute_result",
          "data": {
            "text/plain": [
              "[0.07190989702939987, 0.9768000245094299]"
            ]
          },
          "metadata": {},
          "execution_count": 24
        }
      ]
    },
    {
      "cell_type": "markdown",
      "source": [
        "### 2.2 Data representation for neural networks"
      ],
      "metadata": {
        "id": "XHk5mfLZ6oDo"
      }
    },
    {
      "cell_type": "code",
      "source": [
        "# Scalars (0D tensors)\n",
        "x = np.array(12)\n",
        "x"
      ],
      "metadata": {
        "colab": {
          "base_uri": "https://localhost:8080/"
        },
        "id": "nhiXEbBm6Iuu",
        "outputId": "09d515f0-a8ed-4e22-f9f5-0c162cb1697c"
      },
      "execution_count": 25,
      "outputs": [
        {
          "output_type": "execute_result",
          "data": {
            "text/plain": [
              "array(12)"
            ]
          },
          "metadata": {},
          "execution_count": 25
        }
      ]
    },
    {
      "cell_type": "code",
      "source": [
        "x.ndim"
      ],
      "metadata": {
        "colab": {
          "base_uri": "https://localhost:8080/"
        },
        "id": "B8g6DHjh6wlL",
        "outputId": "3174c871-2151-4bb0-c795-0f9ce32c31b9"
      },
      "execution_count": 26,
      "outputs": [
        {
          "output_type": "execute_result",
          "data": {
            "text/plain": [
              "0"
            ]
          },
          "metadata": {},
          "execution_count": 26
        }
      ]
    },
    {
      "cell_type": "code",
      "source": [
        "# Vectors (1D tensors)\n",
        "x = np.array([3, 10, 5, 4])\n",
        "print(\"Array:\", x)\n",
        "print(\"Dimensions:\", x.ndim)"
      ],
      "metadata": {
        "colab": {
          "base_uri": "https://localhost:8080/"
        },
        "id": "U-Dk45yw65u4",
        "outputId": "0deae7b0-93c8-4654-b85c-be96520c8d54"
      },
      "execution_count": 29,
      "outputs": [
        {
          "output_type": "stream",
          "name": "stdout",
          "text": [
            "Array: [ 3 10  5  4]\n",
            "Dimensions: 1\n"
          ]
        }
      ]
    },
    {
      "cell_type": "code",
      "source": [
        "# Matrices (2D tensors)\n",
        "x = np.array([[5, 78, 2, 34, 0],\n",
        "              [6, 79, 3, 35, 1],\n",
        "              [7, 80, 4, 36, 2]])\n",
        "print(\"Array:\", x)\n",
        "print(\"Dimensions:\", x.ndim)"
      ],
      "metadata": {
        "colab": {
          "base_uri": "https://localhost:8080/"
        },
        "id": "ZW6sY94665xU",
        "outputId": "bb3a41c7-506d-4028-a578-83c1f4528e3c"
      },
      "execution_count": 30,
      "outputs": [
        {
          "output_type": "stream",
          "name": "stdout",
          "text": [
            "Array: [[ 5 78  2 34  0]\n",
            " [ 6 79  3 35  1]\n",
            " [ 7 80  4 36  2]]\n",
            "Dimensions: 2\n"
          ]
        }
      ]
    },
    {
      "cell_type": "code",
      "source": [
        "# 3D tensors and higher-dimensional tensors\n",
        "x = np.array([[[5, 78, 2, 34, 0],\n",
        "               [6, 79, 3, 35, 1],\n",
        "               [7, 80, 4, 36, 2]],\n",
        "              [[5, 78, 2, 34, 0],\n",
        "               [6, 79, 3, 35, 1],\n",
        "               [7, 80, 4, 36, 2]],\n",
        "              [[5, 78, 2, 34, 0],\n",
        "               [6, 79, 3, 35, 1],\n",
        "               [7, 80, 4, 36, 2]]])\n",
        "\n",
        "print(\"Array:\", x)\n",
        "print(\"Dimensions:\", x.ndim)"
      ],
      "metadata": {
        "colab": {
          "base_uri": "https://localhost:8080/"
        },
        "id": "Se7m4Gds650F",
        "outputId": "446b7477-d67f-44a4-925a-04ef75838324"
      },
      "execution_count": 37,
      "outputs": [
        {
          "output_type": "stream",
          "name": "stdout",
          "text": [
            "Array: [[[ 5 78  2 34  0]\n",
            "  [ 6 79  3 35  1]\n",
            "  [ 7 80  4 36  2]]\n",
            "\n",
            " [[ 5 78  2 34  0]\n",
            "  [ 6 79  3 35  1]\n",
            "  [ 7 80  4 36  2]]\n",
            "\n",
            " [[ 5 78  2 34  0]\n",
            "  [ 6 79  3 35  1]\n",
            "  [ 7 80  4 36  2]]]\n",
            "Dimensions: 3\n"
          ]
        }
      ]
    },
    {
      "cell_type": "code",
      "source": [
        "# Key attributes\n",
        "print(x.shape)\n",
        "print(x.dtype)"
      ],
      "metadata": {
        "colab": {
          "base_uri": "https://localhost:8080/"
        },
        "id": "AkOak9gn70L1",
        "outputId": "1b1c11f9-3a78-48db-ae87-f616c3a5c4dc"
      },
      "execution_count": 38,
      "outputs": [
        {
          "output_type": "stream",
          "name": "stdout",
          "text": [
            "(3, 3, 5)\n",
            "int64\n"
          ]
        }
      ]
    },
    {
      "cell_type": "code",
      "source": [
        "(train_images, train_labels), (test_images, test_labels) = mnist.load_data()"
      ],
      "metadata": {
        "id": "8wbl3IAC-GRl"
      },
      "execution_count": 47,
      "outputs": []
    },
    {
      "cell_type": "code",
      "source": [
        "digit = train_images[4]\n",
        "\n",
        "plt.imshow(digit, cmap = plt.cm.binary)\n",
        "plt.title(f\"Digit - {train_labels[4]}\")\n",
        "plt.show()"
      ],
      "metadata": {
        "colab": {
          "base_uri": "https://localhost:8080/",
          "height": 452
        },
        "id": "EpyQt-fh8Fq2",
        "outputId": "5ff1a353-43b6-471b-b6fb-7bc548774df2"
      },
      "execution_count": 42,
      "outputs": [
        {
          "output_type": "display_data",
          "data": {
            "text/plain": [
              "<Figure size 640x480 with 1 Axes>"
            ],
            "image/png": "[encoded data removed]"
          },
          "metadata": {}
        }
      ]
    },
    {
      "cell_type": "code",
      "source": [
        "# Manipulating tensors in Numpy\n",
        "my_slice = train_images[10:100]\n",
        "print(my_slice.shape)"
      ],
      "metadata": {
        "colab": {
          "base_uri": "https://localhost:8080/"
        },
        "id": "Uja1syWk89WE",
        "outputId": "eccc5d85-67cf-496b-df11-d908e83baf5b"
      },
      "execution_count": 48,
      "outputs": [
        {
          "output_type": "stream",
          "name": "stdout",
          "text": [
            "(90, 28, 28)\n"
          ]
        }
      ]
    },
    {
      "cell_type": "code",
      "source": [
        "my_slice = train_images[10:100, 0:28, 0:28]\n",
        "my_slice.shape"
      ],
      "metadata": {
        "colab": {
          "base_uri": "https://localhost:8080/"
        },
        "id": "4odsTumn9pXf",
        "outputId": "0c871323-9546-49fc-8b6a-d61833046ab8"
      },
      "execution_count": 49,
      "outputs": [
        {
          "output_type": "execute_result",
          "data": {
            "text/plain": [
              "(90, 28, 28)"
            ]
          },
          "metadata": {},
          "execution_count": 49
        }
      ]
    },
    {
      "cell_type": "code",
      "source": [
        "my_slice = train_images[:, 7:-7, 7:-7]\n",
        "my_slice.shape"
      ],
      "metadata": {
        "colab": {
          "base_uri": "https://localhost:8080/"
        },
        "id": "XfaM3bvS96VJ",
        "outputId": "7cc014b9-1293-4a25-f3a0-2b8b04064f66"
      },
      "execution_count": 50,
      "outputs": [
        {
          "output_type": "execute_result",
          "data": {
            "text/plain": [
              "(60000, 14, 14)"
            ]
          },
          "metadata": {},
          "execution_count": 50
        }
      ]
    },
    {
      "cell_type": "code",
      "source": [
        "# The notion of data batches\n",
        "batch1 = train_images[:128]\n",
        "batch2 = train_images[128:256]\n",
        "# batchn = train_images[128*n:128*(n+1)]"
      ],
      "metadata": {
        "id": "Drh7Rdg0-O61"
      },
      "execution_count": 51,
      "outputs": []
    },
    {
      "cell_type": "markdown",
      "source": [
        "#### Let’s make data tensors more concrete with a few examples similar to what you’ll encounter later. The data you’ll manipulate will almost always fall into one of the following categories:\n",
        "- Vector data—2D tensors of shape (samples, features)\n",
        "- Timeseries data or sequence data—3D tensors of shape (samples, timesteps,\n",
        "features)\n",
        "- Images—4D tensors of shape (samples, height, width, channels) or (samples,\n",
        "channels, height, width)\n",
        "- Video—5D tensors of shape (samples, frames, height, width, channels) or\n",
        "(samples, frames, channels, height, width)"
      ],
      "metadata": {
        "id": "n2onrVH9--GN"
      }
    },
    {
      "cell_type": "markdown",
      "source": [],
      "metadata": {
        "id": "gMWTyQhQ--L0"
      }
    },
    {
      "cell_type": "markdown",
      "source": [
        "# Chapter 3 - Getting started with neural networks (NN over vector data)\n",
        "\n",
        "#### This chapter helps you begin using neural networks for practical problem-solving. Building on the knowledge gained in Chapter 2, you'll apply it to three common use cases: binary classification, multiclass classification, and scalar regression. The focus is on core neural network components—layers, networks, objective functions, and optimizers. You'll receive a brief introduction to Keras, the Python deep-learning library used throughout the book, and set up a deep-learning workstation with TensorFlow, Keras, and GPU support.\n",
        "- Classifying movie reviews as positive or negative (binary classification)\n",
        "- Classifying news wires by topic (multiclass classification)\n",
        "- Estimating the price of a house, given real-estate data (regression)"
      ],
      "metadata": {
        "id": "QGOl9CoJLXP4"
      }
    },
    {
      "cell_type": "markdown",
      "source": [
        "### 3.1 Anatomy of a neural network"
      ],
      "metadata": {
        "id": "o89BeFyRWLZW"
      }
    },
    {
      "cell_type": "markdown",
      "source": [
        "#### The fundamental data structure in neural networks is the layer, to which you were introduced in chapter 2. Different layers are appropriate for different tensor formats and different types of data processing.\n",
        "- Dense or FC (Fully connected) layers are effective with 2D tensors (vector data)\n",
        "- LSTM layer or recurrent layer is used when sequence data is trained\n",
        "- 2D convolution layers are used to process 4D tensors\n",
        "\n",
        "#### A deep-learning model is a directed, acyclic graph of layers. The most common instance is a linear stack of layers, mapping a single input to a single output. But as you move forward, you’ll be exposed to a much broader variety of network topologies. Some common ones include the following:\n",
        "- Two-branch networks\n",
        "- Multihead networks\n",
        "- Inception blocks\n",
        "\n",
        "#### Once the network architecture is defined, you still have to choose two more things:\n",
        "- Loss function (objective function) — The quantity that will be minimized during\n",
        "training. It represents a measure of success for the task at hand.\n",
        "- Optimizer — Determines how the network will be updated based on the loss function. It implements a specific variant of stochastic gradient descent (SGD).\n",
        "\n",
        "####  Fortunately, when it comes to common problems such as classification, regression, and sequence prediction, there are simple guidelines you can follow to choose the correct loss.\n",
        "- Binary crossentropy for a two-class classification problem\n",
        "- Categorical crossentropy for a many-class classification problem\n",
        "- Mean Squared Error for a regression problem\n",
        "- Connectionist temporal classification (CTC) for a sequence-learning problem"
      ],
      "metadata": {
        "id": "vNDcQX6ULWf9"
      }
    },
    {
      "cell_type": "markdown",
      "source": [
        "### 3.2 Introduction to Keras (https://keras.io)"
      ],
      "metadata": {
        "id": "bExJhhXFWO-U"
      }
    },
    {
      "cell_type": "markdown",
      "source": [
        "<img src = \"https://pbs.twimg.com/media/DBa7RkFUQAAYynh.jpg\">\n",
        "\n",
        "#### Keras is a model-level library that provide high level blocks to build Deep Learning models. It doesn't handle low-level operations such as tensor manipulation and differentiation. The picture below represents the backend engine of Keras library.\n",
        "\n",
        "<img src = \"https://drek4537l1klr.cloudfront.net/chollet/Figures/03fig03.jpg\">\n",
        "\n",
        "#### Tensorflow, CNTK and Theano are some of the primary platforms for deep learning today. Additionally, Keras is able to run seamlessly both on CPU and GPU via Tensorfow. Note that in order to use Keras, you need to install TensorFlow or CNTK or Theano (or all of them, if you want to be able to switch back and forth among the three back\u0002ends). In this book, we’ll focus on TensorFlow, with some light instructions relative to Theano. We won’t cover CNTK.\n",
        "\n",
        "#### We’ll look at three basic examples in sections 3.4, 3.5, and 3.6: a two-class classification example, a many-class classification example, and a regression example."
      ],
      "metadata": {
        "id": "0VTCY713Q0Z6"
      }
    },
    {
      "cell_type": "markdown",
      "source": [
        "### 3.3 Setting up a deep learning workstation"
      ],
      "metadata": {
        "id": "0YSBVFF9WWiH"
      }
    },
    {
      "cell_type": "markdown",
      "source": [
        "<img src = \"https://media.licdn.com/dms/image/D4D12AQHKcVEYFmLd4Q/article-cover_image-shrink_720_1280/0/1687444715324?e=2147483647&v=beta&t=SgL-WWquBzfHCRdN27LFud-RXBdeftJx3BqVmQ6-m6k\"> <br>\n",
        "\n",
        "<h4> Before you can get started developing deep-learning applications, you need to set up your workstation. It’s highly recommended, although not strictly necessary, that you run deep-learning code on a modern NVIDIA GPU. Some applications—in particular, image processing with convolutional networks and sequence processing with recurrent neural networks—will be excruciatingly slow on CPU, even a fast multicore CPU. And even for applications that can realistically be run on CPU, you’ll generally see speed increase by a factor or 5 or 10 by using a modern GPU. If you don’t want to install a GPU on your machine, you can alternatively consider running your experiments on an AWS EC2 GPU instance or on Google Cloud Platform. But note that cloud GPU instances can become expensive over time. </h4>\n",
        "\n",
        "Generally, these are the current computational powers.\n",
        "- CPU (Central Processing Unit)\n",
        "- GPU (Graphics Processing Unit)\n",
        "- TPU (Tensor Processing Unit)\n",
        "<br> <br>\n",
        "<img src = \"https://i.ytimg.com/vi/7OXoals8zkI/maxresdefault.jpg\">\n",
        "\n",
        "\n"
      ],
      "metadata": {
        "id": "mBDXDrqxVjYt"
      }
    },
    {
      "cell_type": "markdown",
      "source": [
        "### 3.4 Classifying movie reviews: a binary classification example\n",
        "\n",
        "#### Two-class classification, or binary classification, may be the most widely applied kind of machine-learning problem. In this example, you’ll learn to classify movie reviews as positive or negative, based on the text content of the reviews."
      ],
      "metadata": {
        "id": "GleNqQ4-YP6g"
      }
    },
    {
      "cell_type": "code",
      "source": [
        "# Importing IMDB Dataset\n",
        "from keras.datasets import imdb # Internet Movie Database\n",
        "(train_data, train_labels), (test_data, test_labels) = imdb.load_data(num_words=10000)\n",
        "# num_words = 10000, 10000 most frequently used words"
      ],
      "metadata": {
        "colab": {
          "base_uri": "https://localhost:8080/"
        },
        "id": "uAZon7fjX3Pm",
        "outputId": "9af3789e-2796-4cfa-9ffb-cdfb0da59e7c"
      },
      "execution_count": 52,
      "outputs": [
        {
          "output_type": "stream",
          "name": "stdout",
          "text": [
            "Downloading data from https://storage.googleapis.com/tensorflow/tf-keras-datasets/imdb.npz\n",
            "17464789/17464789 [==============================] - 0s 0us/step\n"
          ]
        }
      ]
    },
    {
      "cell_type": "markdown",
      "source": [
        "<h4> The argument <b><i>num_words=10000</i></b> means you’ll only keep the top 10,000 most frequently occurring words in the training data. Rare words will be discarded. This allows you to work with vector data of manageable size. </h4>\n",
        "\n",
        "#### All words and sentences have already been pre-processed and configured as a word embedding. Our goal is to predict whether the target is negative (0) or positive (1)."
      ],
      "metadata": {
        "id": "J0r2v9a5YxL3"
      }
    },
    {
      "cell_type": "code",
      "source": [
        "# Data Analysis\n",
        "print(\"Training data: \", train_data.shape)\n",
        "print(\"Testing data: \", test_data.shape)"
      ],
      "metadata": {
        "colab": {
          "base_uri": "https://localhost:8080/"
        },
        "id": "ZMZ7UoZ0X3Nb",
        "outputId": "7d0dbcd1-8fbc-4311-fa4a-deb76a8977d6"
      },
      "execution_count": 53,
      "outputs": [
        {
          "output_type": "stream",
          "name": "stdout",
          "text": [
            "Training data:  (25000,)\n",
            "Testing data:  (25000,)\n"
          ]
        }
      ]
    },
    {
      "cell_type": "code",
      "source": [
        "print(train_data[0]) # Each number represents a word."
      ],
      "metadata": {
        "colab": {
          "base_uri": "https://localhost:8080/"
        },
        "id": "ewFCDfq9-4cR",
        "outputId": "e884a082-3659-457b-c878-218588901c69"
      },
      "execution_count": 55,
      "outputs": [
        {
          "output_type": "stream",
          "name": "stdout",
          "text": [
            "[1, 14, 22, 16, 43, 530, 973, 1622, 1385, 65, 458, 4468, 66, 3941, 4, 173, 36, 256, 5, 25, 100, 43, 838, 112, 50, 670, 2, 9, 35, 480, 284, 5, 150, 4, 172, 112, 167, 2, 336, 385, 39, 4, 172, 4536, 1111, 17, 546, 38, 13, 447, 4, 192, 50, 16, 6, 147, 2025, 19, 14, 22, 4, 1920, 4613, 469, 4, 22, 71, 87, 12, 16, 43, 530, 38, 76, 15, 13, 1247, 4, 22, 17, 515, 17, 12, 16, 626, 18, 2, 5, 62, 386, 12, 8, 316, 8, 106, 5, 4, 2223, 5244, 16, 480, 66, 3785, 33, 4, 130, 12, 16, 38, 619, 5, 25, 124, 51, 36, 135, 48, 25, 1415, 33, 6, 22, 12, 215, 28, 77, 52, 5, 14, 407, 16, 82, 2, 8, 4, 107, 117, 5952, 15, 256, 4, 2, 7, 3766, 5, 723, 36, 71, 43, 530, 476, 26, 400, 317, 46, 7, 4, 2, 1029, 13, 104, 88, 4, 381, 15, 297, 98, 32, 2071, 56, 26, 141, 6, 194, 7486, 18, 4, 226, 22, 21, 134, 476, 26, 480, 5, 144, 30, 5535, 18, 51, 36, 28, 224, 92, 25, 104, 4, 226, 65, 16, 38, 1334, 88, 12, 16, 283, 5, 16, 4472, 113, 103, 32, 15, 16, 5345, 19, 178, 32]\n"
          ]
        }
      ]
    },
    {
      "cell_type": "code",
      "source": [
        "train_labels[0]"
      ],
      "metadata": {
        "colab": {
          "base_uri": "https://localhost:8080/"
        },
        "id": "8aYc-0hZZu5Y",
        "outputId": "4d502327-60f0-4d85-a97e-ef663842653e"
      },
      "execution_count": 56,
      "outputs": [
        {
          "output_type": "execute_result",
          "data": {
            "text/plain": [
              "1"
            ]
          },
          "metadata": {},
          "execution_count": 56
        }
      ]
    },
    {
      "cell_type": "code",
      "source": [
        "print(\"Because you’re restricting yourself to the top 10,000 most frequent words, no word index will exceed 10,000:\",\n",
        "      max([max(sequence) for sequence in train_data]))"
      ],
      "metadata": {
        "colab": {
          "base_uri": "https://localhost:8080/"
        },
        "id": "W9pWLk-qZzu7",
        "outputId": "76c563ca-fe10-4749-e76a-288e5505bd40"
      },
      "execution_count": 58,
      "outputs": [
        {
          "output_type": "stream",
          "name": "stdout",
          "text": [
            "Because you’re restricting yourself to the top 10,000 most frequent words, no word index will exceed 10,000: 9999\n"
          ]
        }
      ]
    },
    {
      "cell_type": "code",
      "source": [
        "word_index = imdb.get_word_index()\n",
        "reverse_word_index = dict([(value, key) for (key, value) in word_index.items()])\n",
        "decoded_review = ' '.join([reverse_word_index.get(i - 3, '?') for i in train_data[0]])"
      ],
      "metadata": {
        "colab": {
          "base_uri": "https://localhost:8080/"
        },
        "id": "_MhH5MkfaF-U",
        "outputId": "6cce7f20-3978-4422-a4ab-dc6e7be3a14e"
      },
      "execution_count": 61,
      "outputs": [
        {
          "output_type": "stream",
          "name": "stdout",
          "text": [
            "Downloading data from https://storage.googleapis.com/tensorflow/tf-keras-datasets/imdb_word_index.json\n",
            "1641221/1641221 [==============================] - 0s 0us/step\n"
          ]
        }
      ]
    },
    {
      "cell_type": "code",
      "source": [
        "word_index[\"seriously\"] # mapping between word and integer"
      ],
      "metadata": {
        "colab": {
          "base_uri": "https://localhost:8080/"
        },
        "id": "oHZOXHU-bJLa",
        "outputId": "00af8a60-9f2b-4d03-ef16-0c8491a3cf5c"
      },
      "execution_count": 63,
      "outputs": [
        {
          "output_type": "execute_result",
          "data": {
            "text/plain": [
              "612"
            ]
          },
          "metadata": {},
          "execution_count": 63
        }
      ]
    },
    {
      "cell_type": "code",
      "source": [
        "reverse_word_index[612]"
      ],
      "metadata": {
        "colab": {
          "base_uri": "https://localhost:8080/",
          "height": 36
        },
        "id": "BmZI0eKEboMv",
        "outputId": "d5fb1831-6187-4a65-d19c-d8c509b436f8"
      },
      "execution_count": 66,
      "outputs": [
        {
          "output_type": "execute_result",
          "data": {
            "text/plain": [
              "'seriously'"
            ],
            "application/vnd.google.colaboratory.intrinsic+json": {
              "type": "string"
            }
          },
          "metadata": {},
          "execution_count": 66
        }
      ]
    },
    {
      "cell_type": "code",
      "source": [
        "print(\"First sample - Decoded version: \", decoded_review)"
      ],
      "metadata": {
        "colab": {
          "base_uri": "https://localhost:8080/"
        },
        "id": "bqY91gWZbv0C",
        "outputId": "63ad6217-46d2-43c7-ff4d-db989fde46ef"
      },
      "execution_count": 67,
      "outputs": [
        {
          "output_type": "stream",
          "name": "stdout",
          "text": [
            "First sample - Decoded version:  ? this film was just brilliant casting location scenery story direction everyone's really suited the part they played and you could just imagine being there robert ? is an amazing actor and now the same being director ? father came from the same scottish island as myself so i loved the fact there was a real connection with this film the witty remarks throughout the film were great it was just brilliant so much that i bought the film as soon as it was released for ? and would recommend it to everyone to watch and the fly fishing was amazing really cried at the end it was so sad and you know what they say if you cry at a film it must have been good and this definitely was also ? to the two little boy's that played the ? of norman and paul they were just brilliant children are often left out of the ? list i think because the stars that play them all grown up are such a big profile for the whole film but these children are amazing and should be praised for what they have done don't you think the whole story was so lovely because it was true and was someone's life after all that was shared with us all\n"
          ]
        }
      ]
    },
    {
      "cell_type": "markdown",
      "source": [
        "<h4> You can’t feed lists of integers into a neural network. You have to turn your lists into tensors. There are two ways to do that: </h4>\n",
        "\n",
        "- Pad your lists so that they all have the same length, turn them into an integer tensor of shape (samples, word_indices), and then use as the first layer in your network a layer capable of handling such integer tensors (the Embedding layer, which we’ll cover in detail later in the book).\n",
        "- One-hot encode your lists to turn them into vectors of 0s and 1s. This would\n",
        "mean, for instance, turning the sequence [3, 5] into a 10,000-dimensional vector that would be all 0s except for indices 3 and 5, which would be 1s. Then you\n",
        "could use as the first layer in your network a Dense layer, capable of handling floating-point vector data."
      ],
      "metadata": {
        "id": "u4cM8tEtclI0"
      }
    },
    {
      "cell_type": "code",
      "source": [
        "type(train_data[0]) # it must be a tensor"
      ],
      "metadata": {
        "colab": {
          "base_uri": "https://localhost:8080/"
        },
        "id": "TF7Bj_ckcrAf",
        "outputId": "87381dec-c1cc-4b77-ea5d-45b8855576a7"
      },
      "execution_count": 68,
      "outputs": [
        {
          "output_type": "execute_result",
          "data": {
            "text/plain": [
              "list"
            ]
          },
          "metadata": {},
          "execution_count": 68
        }
      ]
    },
    {
      "cell_type": "markdown",
      "source": [
        "<h4> Let’s go with the latter solution to vectorize the data, which you’ll do manually for\n",
        "maximum clarity. </h4>"
      ],
      "metadata": {
        "id": "LHX_18MCdObi"
      }
    },
    {
      "cell_type": "code",
      "source": [
        "# Data Preparation\n",
        "def vectorize_sequences(sequences, dimension=10000):\n",
        "  results = np.zeros((len(sequences), dimension)) # 25000 row, 10000 column\n",
        "  for i, sequence in enumerate(sequences):\n",
        "    results[i, sequence] = 1. # If the word occurs in the sample, make it 1\n",
        "  return results\n",
        "\n",
        "x_train = vectorize_sequences(train_data)\n",
        "x_test = vectorize_sequences(test_data)"
      ],
      "metadata": {
        "id": "05Z5O5w0b_XG"
      },
      "execution_count": 70,
      "outputs": []
    },
    {
      "cell_type": "code",
      "source": [
        "pd.DataFrame(x_train)"
      ],
      "metadata": {
        "colab": {
          "base_uri": "https://localhost:8080/",
          "height": 423
        },
        "id": "HSLXCusIdoc0",
        "outputId": "f822a39b-3405-47ac-a231-00b59c4e3aa2"
      },
      "execution_count": 73,
      "outputs": [
        {
          "output_type": "execute_result",
          "data": {
            "text/plain": [
              "       0     1     2     3     4     5     6     7     8     9     ...  9990  \\\n",
              "0       0.0   1.0   1.0   0.0   1.0   1.0   1.0   1.0   1.0   1.0  ...   0.0   \n",
              "1       0.0   1.0   1.0   0.0   1.0   1.0   1.0   1.0   1.0   1.0  ...   0.0   \n",
              "2       0.0   1.0   1.0   0.0   1.0   0.0   1.0   1.0   1.0   1.0  ...   0.0   \n",
              "3       0.0   1.0   1.0   0.0   1.0   1.0   1.0   1.0   1.0   1.0  ...   0.0   \n",
              "4       0.0   1.0   1.0   0.0   1.0   1.0   1.0   1.0   1.0   0.0  ...   0.0   \n",
              "...     ...   ...   ...   ...   ...   ...   ...   ...   ...   ...  ...   ...   \n",
              "24995   0.0   1.0   1.0   0.0   1.0   1.0   1.0   1.0   1.0   1.0  ...   0.0   \n",
              "24996   0.0   1.0   1.0   0.0   1.0   1.0   1.0   1.0   1.0   1.0  ...   0.0   \n",
              "24997   0.0   1.0   1.0   0.0   1.0   1.0   1.0   1.0   1.0   1.0  ...   0.0   \n",
              "24998   0.0   1.0   1.0   0.0   1.0   1.0   1.0   1.0   1.0   1.0  ...   0.0   \n",
              "24999   0.0   1.0   1.0   0.0   1.0   1.0   1.0   1.0   1.0   1.0  ...   0.0   \n",
              "\n",
              "       9991  9992  9993  9994  9995  9996  9997  9998  9999  \n",
              "0       0.0   0.0   0.0   0.0   0.0   0.0   0.0   0.0   0.0  \n",
              "1       0.0   0.0   0.0   0.0   0.0   0.0   0.0   0.0   0.0  \n",
              "2       0.0   0.0   0.0   0.0   0.0   0.0   0.0   0.0   0.0  \n",
              "3       0.0   0.0   0.0   0.0   0.0   0.0   0.0   0.0   0.0  \n",
              "4       0.0   0.0   0.0   0.0   0.0   0.0   0.0   0.0   0.0  \n",
              "...     ...   ...   ...   ...   ...   ...   ...   ...   ...  \n",
              "24995   0.0   0.0   0.0   0.0   0.0   0.0   0.0   0.0   0.0  \n",
              "24996   0.0   0.0   0.0   0.0   0.0   0.0   0.0   0.0   0.0  \n",
              "24997   0.0   0.0   0.0   0.0   0.0   0.0   0.0   0.0   0.0  \n",
              "24998   0.0   0.0   0.0   0.0   0.0   0.0   0.0   0.0   0.0  \n",
              "24999   0.0   0.0   0.0   0.0   0.0   0.0   0.0   0.0   0.0  \n",
              "\n",
              "[25000 rows x 10000 columns]"
            ],
            "text/html": [
              "\n",
              "  <div id=\"df-a5ac5526-863c-4a42-bd1c-488dc15b5bb6\" class=\"colab-df-container\">\n",
              "    <div>\n",
              "<style scoped>\n",
              "    .dataframe tbody tr th:only-of-type {\n",
              "        vertical-align: middle;\n",
              "    }\n",
              "\n",
              "    .dataframe tbody tr th {\n",
              "        vertical-align: top;\n",
              "    }\n",
              "\n",
              "    .dataframe thead th {\n",
              "        text-align: right;\n",
              "    }\n",
              "</style>\n",
              "<table border=\"1\" class=\"dataframe\">\n",
              "  <thead>\n",
              "    <tr style=\"text-align: right;\">\n",
              "      <th></th>\n",
              "      <th>0</th>\n",
              "      <th>1</th>\n",
              "      <th>2</th>\n",
              "      <th>3</th>\n",
              "      <th>4</th>\n",
              "      <th>5</th>\n",
              "      <th>6</th>\n",
              "      <th>7</th>\n",
              "      <th>8</th>\n",
              "      <th>9</th>\n",
              "      <th>...</th>\n",
              "      <th>9990</th>\n",
              "      <th>9991</th>\n",
              "      <th>9992</th>\n",
              "      <th>9993</th>\n",
              "      <th>9994</th>\n",
              "      <th>9995</th>\n",
              "      <th>9996</th>\n",
              "      <th>9997</th>\n",
              "      <th>9998</th>\n",
              "      <th>9999</th>\n",
              "    </tr>\n",
              "  </thead>\n",
              "  <tbody>\n",
              "    <tr>\n",
              "      <th>0</th>\n",
              "      <td>0.0</td>\n",
              "      <td>1.0</td>\n",
              "      <td>1.0</td>\n",
              "      <td>0.0</td>\n",
              "      <td>1.0</td>\n",
              "      <td>1.0</td>\n",
              "      <td>1.0</td>\n",
              "      <td>1.0</td>\n",
              "      <td>1.0</td>\n",
              "      <td>1.0</td>\n",
              "      <td>...</td>\n",
              "      <td>0.0</td>\n",
              "      <td>0.0</td>\n",
              "      <td>0.0</td>\n",
              "      <td>0.0</td>\n",
              "      <td>0.0</td>\n",
              "      <td>0.0</td>\n",
              "      <td>0.0</td>\n",
              "      <td>0.0</td>\n",
              "      <td>0.0</td>\n",
              "      <td>0.0</td>\n",
              "    </tr>\n",
              "    <tr>\n",
              "      <th>1</th>\n",
              "      <td>0.0</td>\n",
              "      <td>1.0</td>\n",
              "      <td>1.0</td>\n",
              "      <td>0.0</td>\n",
              "      <td>1.0</td>\n",
              "      <td>1.0</td>\n",
              "      <td>1.0</td>\n",
              "      <td>1.0</td>\n",
              "      <td>1.0</td>\n",
              "      <td>1.0</td>\n",
              "      <td>...</td>\n",
              "      <td>0.0</td>\n",
              "      <td>0.0</td>\n",
              "      <td>0.0</td>\n",
              "      <td>0.0</td>\n",
              "      <td>0.0</td>\n",
              "      <td>0.0</td>\n",
              "      <td>0.0</td>\n",
              "      <td>0.0</td>\n",
              "      <td>0.0</td>\n",
              "      <td>0.0</td>\n",
              "    </tr>\n",
              "    <tr>\n",
              "      <th>2</th>\n",
              "      <td>0.0</td>\n",
              "      <td>1.0</td>\n",
              "      <td>1.0</td>\n",
              "      <td>0.0</td>\n",
              "      <td>1.0</td>\n",
              "      <td>0.0</td>\n",
              "      <td>1.0</td>\n",
              "      <td>1.0</td>\n",
              "      <td>1.0</td>\n",
              "      <td>1.0</td>\n",
              "      <td>...</td>\n",
              "      <td>0.0</td>\n",
              "      <td>0.0</td>\n",
              "      <td>0.0</td>\n",
              "      <td>0.0</td>\n",
              "      <td>0.0</td>\n",
              "      <td>0.0</td>\n",
              "      <td>0.0</td>\n",
              "      <td>0.0</td>\n",
              "      <td>0.0</td>\n",
              "      <td>0.0</td>\n",
              "    </tr>\n",
              "    <tr>\n",
              "      <th>3</th>\n",
              "      <td>0.0</td>\n",
              "      <td>1.0</td>\n",
              "      <td>1.0</td>\n",
              "      <td>0.0</td>\n",
              "      <td>1.0</td>\n",
              "      <td>1.0</td>\n",
              "      <td>1.0</td>\n",
              "      <td>1.0</td>\n",
              "      <td>1.0</td>\n",
              "      <td>1.0</td>\n",
              "      <td>...</td>\n",
              "      <td>0.0</td>\n",
              "      <td>0.0</td>\n",
              "      <td>0.0</td>\n",
              "      <td>0.0</td>\n",
              "      <td>0.0</td>\n",
              "      <td>0.0</td>\n",
              "      <td>0.0</td>\n",
              "      <td>0.0</td>\n",
              "      <td>0.0</td>\n",
              "      <td>0.0</td>\n",
              "    </tr>\n",
              "    <tr>\n",
              "      <th>4</th>\n",
              "      <td>0.0</td>\n",
              "      <td>1.0</td>\n",
              "      <td>1.0</td>\n",
              "      <td>0.0</td>\n",
              "      <td>1.0</td>\n",
              "      <td>1.0</td>\n",
              "      <td>1.0</td>\n",
              "      <td>1.0</td>\n",
              "      <td>1.0</td>\n",
              "      <td>0.0</td>\n",
              "      <td>...</td>\n",
              "      <td>0.0</td>\n",
              "      <td>0.0</td>\n",
              "      <td>0.0</td>\n",
              "      <td>0.0</td>\n",
              "      <td>0.0</td>\n",
              "      <td>0.0</td>\n",
              "      <td>0.0</td>\n",
              "      <td>0.0</td>\n",
              "      <td>0.0</td>\n",
              "      <td>0.0</td>\n",
              "    </tr>\n",
              "    <tr>\n",
              "      <th>...</th>\n",
              "      <td>...</td>\n",
              "      <td>...</td>\n",
              "      <td>...</td>\n",
              "      <td>...</td>\n",
              "      <td>...</td>\n",
              "      <td>...</td>\n",
              "      <td>...</td>\n",
              "      <td>...</td>\n",
              "      <td>...</td>\n",
              "      <td>...</td>\n",
              "      <td>...</td>\n",
              "      <td>...</td>\n",
              "      <td>...</td>\n",
              "      <td>...</td>\n",
              "      <td>...</td>\n",
              "      <td>...</td>\n",
              "      <td>...</td>\n",
              "      <td>...</td>\n",
              "      <td>...</td>\n",
              "      <td>...</td>\n",
              "      <td>...</td>\n",
              "    </tr>\n",
              "    <tr>\n",
              "      <th>24995</th>\n",
              "      <td>0.0</td>\n",
              "      <td>1.0</td>\n",
              "      <td>1.0</td>\n",
              "      <td>0.0</td>\n",
              "      <td>1.0</td>\n",
              "      <td>1.0</td>\n",
              "      <td>1.0</td>\n",
              "      <td>1.0</td>\n",
              "      <td>1.0</td>\n",
              "      <td>1.0</td>\n",
              "      <td>...</td>\n",
              "      <td>0.0</td>\n",
              "      <td>0.0</td>\n",
              "      <td>0.0</td>\n",
              "      <td>0.0</td>\n",
              "      <td>0.0</td>\n",
              "      <td>0.0</td>\n",
              "      <td>0.0</td>\n",
              "      <td>0.0</td>\n",
              "      <td>0.0</td>\n",
              "      <td>0.0</td>\n",
              "    </tr>\n",
              "    <tr>\n",
              "      <th>24996</th>\n",
              "      <td>0.0</td>\n",
              "      <td>1.0</td>\n",
              "      <td>1.0</td>\n",
              "      <td>0.0</td>\n",
              "      <td>1.0</td>\n",
              "      <td>1.0</td>\n",
              "      <td>1.0</td>\n",
              "      <td>1.0</td>\n",
              "      <td>1.0</td>\n",
              "      <td>1.0</td>\n",
              "      <td>...</td>\n",
              "      <td>0.0</td>\n",
              "      <td>0.0</td>\n",
              "      <td>0.0</td>\n",
              "      <td>0.0</td>\n",
              "      <td>0.0</td>\n",
              "      <td>0.0</td>\n",
              "      <td>0.0</td>\n",
              "      <td>0.0</td>\n",
              "      <td>0.0</td>\n",
              "      <td>0.0</td>\n",
              "    </tr>\n",
              "    <tr>\n",
              "      <th>24997</th>\n",
              "      <td>0.0</td>\n",
              "      <td>1.0</td>\n",
              "      <td>1.0</td>\n",
              "      <td>0.0</td>\n",
              "      <td>1.0</td>\n",
              "      <td>1.0</td>\n",
              "      <td>1.0</td>\n",
              "      <td>1.0</td>\n",
              "      <td>1.0</td>\n",
              "      <td>1.0</td>\n",
              "      <td>...</td>\n",
              "      <td>0.0</td>\n",
              "      <td>0.0</td>\n",
              "      <td>0.0</td>\n",
              "      <td>0.0</td>\n",
              "      <td>0.0</td>\n",
              "      <td>0.0</td>\n",
              "      <td>0.0</td>\n",
              "      <td>0.0</td>\n",
              "      <td>0.0</td>\n",
              "      <td>0.0</td>\n",
              "    </tr>\n",
              "    <tr>\n",
              "      <th>24998</th>\n",
              "      <td>0.0</td>\n",
              "      <td>1.0</td>\n",
              "      <td>1.0</td>\n",
              "      <td>0.0</td>\n",
              "      <td>1.0</td>\n",
              "      <td>1.0</td>\n",
              "      <td>1.0</td>\n",
              "      <td>1.0</td>\n",
              "      <td>1.0</td>\n",
              "      <td>1.0</td>\n",
              "      <td>...</td>\n",
              "      <td>0.0</td>\n",
              "      <td>0.0</td>\n",
              "      <td>0.0</td>\n",
              "      <td>0.0</td>\n",
              "      <td>0.0</td>\n",
              "      <td>0.0</td>\n",
              "      <td>0.0</td>\n",
              "      <td>0.0</td>\n",
              "      <td>0.0</td>\n",
              "      <td>0.0</td>\n",
              "    </tr>\n",
              "    <tr>\n",
              "      <th>24999</th>\n",
              "      <td>0.0</td>\n",
              "      <td>1.0</td>\n",
              "      <td>1.0</td>\n",
              "      <td>0.0</td>\n",
              "      <td>1.0</td>\n",
              "      <td>1.0</td>\n",
              "      <td>1.0</td>\n",
              "      <td>1.0</td>\n",
              "      <td>1.0</td>\n",
              "      <td>1.0</td>\n",
              "      <td>...</td>\n",
              "      <td>0.0</td>\n",
              "      <td>0.0</td>\n",
              "      <td>0.0</td>\n",
              "      <td>0.0</td>\n",
              "      <td>0.0</td>\n",
              "      <td>0.0</td>\n",
              "      <td>0.0</td>\n",
              "      <td>0.0</td>\n",
              "      <td>0.0</td>\n",
              "      <td>0.0</td>\n",
              "    </tr>\n",
              "  </tbody>\n",
              "</table>\n",
              "<p>25000 rows × 10000 columns</p>\n",
              "</div>\n",
              "    <div class=\"colab-df-buttons\">\n",
              "\n",
              "  <div class=\"colab-df-container\">\n",
              "    <button class=\"colab-df-convert\" onclick=\"convertToInteractive('df-a5ac5526-863c-4a42-bd1c-488dc15b5bb6')\"\n",
              "            title=\"Convert this dataframe to an interactive table.\"\n",
              "            style=\"display:none;\">\n",
              "\n",
              "  <svg xmlns=\"http://www.w3.org/2000/svg\" height=\"24px\" viewBox=\"0 -960 960 960\">\n",
              "    <path d=\"M120-120v-720h720v720H120Zm60-500h600v-160H180v160Zm220 220h160v-160H400v160Zm0 220h160v-160H400v160ZM180-400h160v-160H180v160Zm440 0h160v-160H620v160ZM180-180h160v-160H180v160Zm440 0h160v-160H620v160Z\"/>\n",
              "  </svg>\n",
              "    </button>\n",
              "\n",
              "  <style>\n",
              "    .colab-df-container {\n",
              "      display:flex;\n",
              "      gap: 12px;\n",
              "    }\n",
              "\n",
              "    .colab-df-convert {\n",
              "      background-color: #E8F0FE;\n",
              "      border: none;\n",
              "      border-radius: 50%;\n",
              "      cursor: pointer;\n",
              "      display: none;\n",
              "      fill: #1967D2;\n",
              "      height: 32px;\n",
              "      padding: 0 0 0 0;\n",
              "      width: 32px;\n",
              "    }\n",
              "\n",
              "    .colab-df-convert:hover {\n",
              "      background-color: #E2EBFA;\n",
              "      box-shadow: 0px 1px 2px rgba(60, 64, 67, 0.3), 0px 1px 3px 1px rgba(60, 64, 67, 0.15);\n",
              "      fill: #174EA6;\n",
              "    }\n",
              "\n",
              "    .colab-df-buttons div {\n",
              "      margin-bottom: 4px;\n",
              "    }\n",
              "\n",
              "    [theme=dark] .colab-df-convert {\n",
              "      background-color: #3B4455;\n",
              "      fill: #D2E3FC;\n",
              "    }\n",
              "\n",
              "    [theme=dark] .colab-df-convert:hover {\n",
              "      background-color: #434B5C;\n",
              "      box-shadow: 0px 1px 3px 1px rgba(0, 0, 0, 0.15);\n",
              "      filter: drop-shadow(0px 1px 2px rgba(0, 0, 0, 0.3));\n",
              "      fill: #FFFFFF;\n",
              "    }\n",
              "  </style>\n",
              "\n",
              "    <script>\n",
              "      const buttonEl =\n",
              "        document.querySelector('#df-a5ac5526-863c-4a42-bd1c-488dc15b5bb6 button.colab-df-convert');\n",
              "      buttonEl.style.display =\n",
              "        google.colab.kernel.accessAllowed ? 'block' : 'none';\n",
              "\n",
              "      async function convertToInteractive(key) {\n",
              "        const element = document.querySelector('#df-a5ac5526-863c-4a42-bd1c-488dc15b5bb6');\n",
              "        const dataTable =\n",
              "          await google.colab.kernel.invokeFunction('convertToInteractive',\n",
              "                                                    [key], {});\n",
              "        if (!dataTable) return;\n",
              "\n",
              "        const docLinkHtml = 'Like what you see? Visit the ' +\n",
              "          '<a target=\"_blank\" href=https://colab.research.google.com/notebooks/data_table.ipynb>data table notebook</a>'\n",
              "          + ' to learn more about interactive tables.';\n",
              "        element.innerHTML = '';\n",
              "        dataTable['output_type'] = 'display_data';\n",
              "        await google.colab.output.renderOutput(dataTable, element);\n",
              "        const docLink = document.createElement('div');\n",
              "        docLink.innerHTML = docLinkHtml;\n",
              "        element.appendChild(docLink);\n",
              "      }\n",
              "    </script>\n",
              "  </div>\n",
              "\n",
              "\n",
              "<div id=\"df-906f7fe7-08a3-4ed5-9d7b-f35f4e13e766\">\n",
              "  <button class=\"colab-df-quickchart\" onclick=\"quickchart('df-906f7fe7-08a3-4ed5-9d7b-f35f4e13e766')\"\n",
              "            title=\"Suggest charts\"\n",
              "            style=\"display:none;\">\n",
              "\n",
              "<svg xmlns=\"http://www.w3.org/2000/svg\" height=\"24px\"viewBox=\"0 0 24 24\"\n",
              "     width=\"24px\">\n",
              "    <g>\n",
              "        <path d=\"M19 3H5c-1.1 0-2 .9-2 2v14c0 1.1.9 2 2 2h14c1.1 0 2-.9 2-2V5c0-1.1-.9-2-2-2zM9 17H7v-7h2v7zm4 0h-2V7h2v10zm4 0h-2v-4h2v4z\"/>\n",
              "    </g>\n",
              "</svg>\n",
              "  </button>\n",
              "\n",
              "<style>\n",
              "  .colab-df-quickchart {\n",
              "      --bg-color: #E8F0FE;\n",
              "      --fill-color: #1967D2;\n",
              "      --hover-bg-color: #E2EBFA;\n",
              "      --hover-fill-color: #174EA6;\n",
              "      --disabled-fill-color: #AAA;\n",
              "      --disabled-bg-color: #DDD;\n",
              "  }\n",
              "\n",
              "  [theme=dark] .colab-df-quickchart {\n",
              "      --bg-color: #3B4455;\n",
              "      --fill-color: #D2E3FC;\n",
              "      --hover-bg-color: #434B5C;\n",
              "      --hover-fill-color: #FFFFFF;\n",
              "      --disabled-bg-color: #3B4455;\n",
              "      --disabled-fill-color: #666;\n",
              "  }\n",
              "\n",
              "  .colab-df-quickchart {\n",
              "    background-color: var(--bg-color);\n",
              "    border: none;\n",
              "    border-radius: 50%;\n",
              "    cursor: pointer;\n",
              "    display: none;\n",
              "    fill: var(--fill-color);\n",
              "    height: 32px;\n",
              "    padding: 0;\n",
              "    width: 32px;\n",
              "  }\n",
              "\n",
              "  .colab-df-quickchart:hover {\n",
              "    background-color: var(--hover-bg-color);\n",
              "    box-shadow: 0 1px 2px rgba(60, 64, 67, 0.3), 0 1px 3px 1px rgba(60, 64, 67, 0.15);\n",
              "    fill: var(--button-hover-fill-color);\n",
              "  }\n",
              "\n",
              "  .colab-df-quickchart-complete:disabled,\n",
              "  .colab-df-quickchart-complete:disabled:hover {\n",
              "    background-color: var(--disabled-bg-color);\n",
              "    fill: var(--disabled-fill-color);\n",
              "    box-shadow: none;\n",
              "  }\n",
              "\n",
              "  .colab-df-spinner {\n",
              "    border: 2px solid var(--fill-color);\n",
              "    border-color: transparent;\n",
              "    border-bottom-color: var(--fill-color);\n",
              "    animation:\n",
              "      spin 1s steps(1) infinite;\n",
              "  }\n",
              "\n",
              "  @keyframes spin {\n",
              "    0% {\n",
              "      border-color: transparent;\n",
              "      border-bottom-color: var(--fill-color);\n",
              "      border-left-color: var(--fill-color);\n",
              "    }\n",
              "    20% {\n",
              "      border-color: transparent;\n",
              "      border-left-color: var(--fill-color);\n",
              "      border-top-color: var(--fill-color);\n",
              "    }\n",
              "    30% {\n",
              "      border-color: transparent;\n",
              "      border-left-color: var(--fill-color);\n",
              "      border-top-color: var(--fill-color);\n",
              "      border-right-color: var(--fill-color);\n",
              "    }\n",
              "    40% {\n",
              "      border-color: transparent;\n",
              "      border-right-color: var(--fill-color);\n",
              "      border-top-color: var(--fill-color);\n",
              "    }\n",
              "    60% {\n",
              "      border-color: transparent;\n",
              "      border-right-color: var(--fill-color);\n",
              "    }\n",
              "    80% {\n",
              "      border-color: transparent;\n",
              "      border-right-color: var(--fill-color);\n",
              "      border-bottom-color: var(--fill-color);\n",
              "    }\n",
              "    90% {\n",
              "      border-color: transparent;\n",
              "      border-bottom-color: var(--fill-color);\n",
              "    }\n",
              "  }\n",
              "</style>\n",
              "\n",
              "  <script>\n",
              "    async function quickchart(key) {\n",
              "      const quickchartButtonEl =\n",
              "        document.querySelector('#' + key + ' button');\n",
              "      quickchartButtonEl.disabled = true;  // To prevent multiple clicks.\n",
              "      quickchartButtonEl.classList.add('colab-df-spinner');\n",
              "      try {\n",
              "        const charts = await google.colab.kernel.invokeFunction(\n",
              "            'suggestCharts', [key], {});\n",
              "      } catch (error) {\n",
              "        console.error('Error during call to suggestCharts:', error);\n",
              "      }\n",
              "      quickchartButtonEl.classList.remove('colab-df-spinner');\n",
              "      quickchartButtonEl.classList.add('colab-df-quickchart-complete');\n",
              "    }\n",
              "    (() => {\n",
              "      let quickchartButtonEl =\n",
              "        document.querySelector('#df-906f7fe7-08a3-4ed5-9d7b-f35f4e13e766 button');\n",
              "      quickchartButtonEl.style.display =\n",
              "        google.colab.kernel.accessAllowed ? 'block' : 'none';\n",
              "    })();\n",
              "  </script>\n",
              "</div>\n",
              "\n",
              "    </div>\n",
              "  </div>\n"
            ]
          },
          "metadata": {},
          "execution_count": 73
        }
      ]
    },
    {
      "cell_type": "code",
      "source": [
        "# Vectorizing labels\n",
        "y_train = np.asarray(train_labels).astype('float32')\n",
        "y_test = np.asarray(test_labels).astype('float32')"
      ],
      "metadata": {
        "id": "-OnEeSiUdsIZ"
      },
      "execution_count": 74,
      "outputs": []
    },
    {
      "cell_type": "code",
      "source": [
        "x_train[0]"
      ],
      "metadata": {
        "colab": {
          "base_uri": "https://localhost:8080/"
        },
        "id": "T-vKbV0blag-",
        "outputId": "ee46f3f1-66b6-4dd7-e0b1-91a4a0143c60"
      },
      "execution_count": 75,
      "outputs": [
        {
          "output_type": "execute_result",
          "data": {
            "text/plain": [
              "array([0., 1., 1., ..., 0., 0., 0.])"
            ]
          },
          "metadata": {},
          "execution_count": 75
        }
      ]
    },
    {
      "cell_type": "code",
      "source": [
        "y_train[0]"
      ],
      "metadata": {
        "colab": {
          "base_uri": "https://localhost:8080/"
        },
        "id": "if1VIArcldrd",
        "outputId": "84bdd194-1948-4185-91b0-2ac496c3653d"
      },
      "execution_count": 76,
      "outputs": [
        {
          "output_type": "execute_result",
          "data": {
            "text/plain": [
              "1.0"
            ]
          },
          "metadata": {},
          "execution_count": 76
        }
      ]
    },
    {
      "cell_type": "markdown",
      "source": [
        "Dense(16, activation='relu') --> output = relu(dot(W, input) + b) <br>\n",
        "<h4> Having 16 hidden units means the weight matrix W will have shape (input_dimension, 16): the dot product with W will project the input data onto a 16-dimensional representation space (and then you’ll add the bias vector b and apply the relu operation). </h4>"
      ],
      "metadata": {
        "id": "JlEfsk5Wl2Yy"
      }
    },
    {
      "cell_type": "markdown",
      "source": [
        "<h4> There are two key architecture decisions to be made about such a stack of Dense layers: <h4>\n",
        "\n",
        "- How many layers to use\n",
        "- How many hidden units to choose for each layer\n",
        "\n",
        "These will be learned in Chapter 4. Now, we will build a three layer network.\n",
        "\n",
        "<img src = \"data:image/png;base64,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\">"
      ],
      "metadata": {
        "id": "bSdxKeWhl2fI"
      }
    },
    {
      "cell_type": "code",
      "source": [
        "# Building a model for 2D tensor (vector) getting (10000,1) shape for each sample\n",
        "model = models.Sequential()\n",
        "model.add(layers.Dense(16, activation='relu', input_shape=(10000,)))\n",
        "model.add(layers.Dense(16, activation='relu'))\n",
        "model.add(layers.Dense(1, activation='sigmoid'))"
      ],
      "metadata": {
        "id": "Ry6LyDfVlkp-"
      },
      "execution_count": 77,
      "outputs": []
    },
    {
      "cell_type": "code",
      "source": [
        "# Compilation\n",
        "model.compile(optimizer='rmsprop', loss='binary_crossentropy', metrics=['accuracy'])"
      ],
      "metadata": {
        "id": "fNtW-JWkmrVj"
      },
      "execution_count": 78,
      "outputs": []
    },
    {
      "cell_type": "markdown",
      "source": [
        "#### You’re passing your optimizer, loss function, and metrics as strings, which is possible because rmsprop, binary_crossentropy, and accuracy are packaged as part of Keras. Sometimes you may want to configure the parameters of your optimizer or pass a custom loss function or metric function. The former can be done by passing an optimizer class instance as the optimizer argument."
      ],
      "metadata": {
        "id": "hWxTMNROnEh4"
      }
    },
    {
      "cell_type": "code",
      "source": [
        "from keras import optimizers\n",
        "\n",
        "model.compile(optimizer=optimizers.RMSprop(lr=0.001),\n",
        "              loss='binary_crossentropy', metrics=['accuracy'])"
      ],
      "metadata": {
        "colab": {
          "base_uri": "https://localhost:8080/"
        },
        "id": "4CGE5Xfam6Pa",
        "outputId": "8477b093-15b4-4985-a904-4fefe5f01787"
      },
      "execution_count": 79,
      "outputs": [
        {
          "output_type": "stream",
          "name": "stderr",
          "text": [
            "WARNING:absl:`lr` is deprecated in Keras optimizer, please use `learning_rate` or use the legacy optimizer, e.g.,tf.keras.optimizers.legacy.RMSprop.\n"
          ]
        }
      ]
    },
    {
      "cell_type": "code",
      "source": [
        "from keras import losses\n",
        "from keras import metrics\n",
        "\n",
        "model.compile(optimizer=optimizers.RMSprop(learning_rate=0.001),\n",
        "              loss=losses.binary_crossentropy,\n",
        "              metrics=[metrics.binary_accuracy])"
      ],
      "metadata": {
        "id": "IFLE-l7VnOcU"
      },
      "execution_count": 81,
      "outputs": []
    },
    {
      "cell_type": "code",
      "source": [
        "# Validation dataset\n",
        "x_val = x_train[:10000]\n",
        "partial_x_train = x_train[10000:]\n",
        "y_val = y_train[:10000]\n",
        "partial_y_train = y_train[10000:]"
      ],
      "metadata": {
        "id": "otcd_3fcnjrr"
      },
      "execution_count": 82,
      "outputs": []
    },
    {
      "cell_type": "code",
      "source": [
        "# Training\n",
        "history = model.fit(partial_x_train, partial_y_train,\n",
        "                    epochs=20, batch_size=512,\n",
        "                    validation_data=(x_val, y_val))"
      ],
      "metadata": {
        "colab": {
          "base_uri": "https://localhost:8080/"
        },
        "id": "cuCXGXBJnr01",
        "outputId": "4696e6ee-48e6-4d0f-820f-a95ed05f78b4"
      },
      "execution_count": 83,
      "outputs": [
        {
          "output_type": "stream",
          "name": "stdout",
          "text": [
            "Epoch 1/20\n",
            "30/30 [==============================] - 7s 183ms/step - loss: 0.5454 - binary_accuracy: 0.7541 - val_loss: 0.4068 - val_binary_accuracy: 0.8601\n",
            "Epoch 2/20\n",
            "30/30 [==============================] - 1s 34ms/step - loss: 0.3297 - binary_accuracy: 0.8907 - val_loss: 0.3222 - val_binary_accuracy: 0.8797\n",
            "Epoch 3/20\n",
            "30/30 [==============================] - 1s 34ms/step - loss: 0.2451 - binary_accuracy: 0.9150 - val_loss: 0.2953 - val_binary_accuracy: 0.8842\n",
            "Epoch 4/20\n",
            "30/30 [==============================] - 1s 34ms/step - loss: 0.1920 - binary_accuracy: 0.9371 - val_loss: 0.2951 - val_binary_accuracy: 0.8809\n",
            "Epoch 5/20\n",
            "30/30 [==============================] - 1s 34ms/step - loss: 0.1638 - binary_accuracy: 0.9444 - val_loss: 0.2812 - val_binary_accuracy: 0.8882\n",
            "Epoch 6/20\n",
            "30/30 [==============================] - 1s 35ms/step - loss: 0.1363 - binary_accuracy: 0.9575 - val_loss: 0.2894 - val_binary_accuracy: 0.8852\n",
            "Epoch 7/20\n",
            "30/30 [==============================] - 1s 34ms/step - loss: 0.1137 - binary_accuracy: 0.9665 - val_loss: 0.3033 - val_binary_accuracy: 0.8849\n",
            "Epoch 8/20\n",
            "30/30 [==============================] - 2s 85ms/step - loss: 0.0976 - binary_accuracy: 0.9719 - val_loss: 0.3220 - val_binary_accuracy: 0.8848\n",
            "Epoch 9/20\n",
            "30/30 [==============================] - 2s 55ms/step - loss: 0.0793 - binary_accuracy: 0.9781 - val_loss: 0.3912 - val_binary_accuracy: 0.8609\n",
            "Epoch 10/20\n",
            "30/30 [==============================] - 1s 46ms/step - loss: 0.0678 - binary_accuracy: 0.9806 - val_loss: 0.3734 - val_binary_accuracy: 0.8694\n",
            "Epoch 11/20\n",
            "30/30 [==============================] - 1s 33ms/step - loss: 0.0569 - binary_accuracy: 0.9868 - val_loss: 0.3975 - val_binary_accuracy: 0.8771\n",
            "Epoch 12/20\n",
            "30/30 [==============================] - 1s 31ms/step - loss: 0.0442 - binary_accuracy: 0.9919 - val_loss: 0.4034 - val_binary_accuracy: 0.8785\n",
            "Epoch 13/20\n",
            "30/30 [==============================] - 1s 34ms/step - loss: 0.0387 - binary_accuracy: 0.9916 - val_loss: 0.4591 - val_binary_accuracy: 0.8741\n",
            "Epoch 14/20\n",
            "30/30 [==============================] - 1s 33ms/step - loss: 0.0314 - binary_accuracy: 0.9941 - val_loss: 0.4454 - val_binary_accuracy: 0.8742\n",
            "Epoch 15/20\n",
            "30/30 [==============================] - 1s 34ms/step - loss: 0.0248 - binary_accuracy: 0.9963 - val_loss: 0.4799 - val_binary_accuracy: 0.8758\n",
            "Epoch 16/20\n",
            "30/30 [==============================] - 1s 35ms/step - loss: 0.0227 - binary_accuracy: 0.9958 - val_loss: 0.5111 - val_binary_accuracy: 0.8665\n",
            "Epoch 17/20\n",
            "30/30 [==============================] - 1s 34ms/step - loss: 0.0180 - binary_accuracy: 0.9971 - val_loss: 0.5195 - val_binary_accuracy: 0.8748\n",
            "Epoch 18/20\n",
            "30/30 [==============================] - 1s 32ms/step - loss: 0.0154 - binary_accuracy: 0.9973 - val_loss: 0.5413 - val_binary_accuracy: 0.8729\n",
            "Epoch 19/20\n",
            "30/30 [==============================] - 1s 34ms/step - loss: 0.0084 - binary_accuracy: 0.9996 - val_loss: 0.5884 - val_binary_accuracy: 0.8739\n",
            "Epoch 20/20\n",
            "30/30 [==============================] - 1s 36ms/step - loss: 0.0116 - binary_accuracy: 0.9982 - val_loss: 0.5951 - val_binary_accuracy: 0.8729\n"
          ]
        }
      ]
    },
    {
      "cell_type": "code",
      "source": [
        "history_dict = history.history\n",
        "history_dict.keys()"
      ],
      "metadata": {
        "colab": {
          "base_uri": "https://localhost:8080/"
        },
        "id": "piWRa9X3n20F",
        "outputId": "db13bb2d-9a0d-40f5-aedb-4495174d1b03"
      },
      "execution_count": 84,
      "outputs": [
        {
          "output_type": "execute_result",
          "data": {
            "text/plain": [
              "dict_keys(['loss', 'binary_accuracy', 'val_loss', 'val_binary_accuracy'])"
            ]
          },
          "metadata": {},
          "execution_count": 84
        }
      ]
    },
    {
      "cell_type": "code",
      "source": [
        "import matplotlib.pyplot as plt\n",
        "history_dict = history.history\n",
        "loss_values = history_dict['loss']\n",
        "val_loss_values = history_dict['val_loss']\n",
        "\n",
        "epochs = range(1, 21)\n",
        "\n",
        "plt.plot(epochs, loss_values, 'bo', label='Training loss')\n",
        "plt.plot(epochs, val_loss_values, 'b', label='Validation loss')\n",
        "plt.title('Training and validation loss')\n",
        "plt.xlabel('Epochs')\n",
        "plt.ylabel('Loss')\n",
        "plt.legend()\n",
        "plt.show()"
      ],
      "metadata": {
        "colab": {
          "base_uri": "https://localhost:8080/",
          "height": 472
        },
        "id": "M62IqQD7ohYD",
        "outputId": "81eb738f-b9dc-41cd-88bd-0bc3fad0d7d0"
      },
      "execution_count": 86,
      "outputs": [
        {
          "output_type": "display_data",
          "data": {
            "text/plain": [
              "<Figure size 640x480 with 1 Axes>"
            ],
            "image/png": "[encoded data removed]"
          },
          "metadata": {}
        }
      ]
    },
    {
      "cell_type": "code",
      "source": [
        "acc_values = history_dict['binary_accuracy']\n",
        "val_acc_values = history_dict['val_binary_accuracy']\n",
        "\n",
        "plt.plot(epochs, acc_values, 'bo', label='Training acc')\n",
        "plt.plot(epochs, val_acc_values, 'b', label='Validation acc')\n",
        "plt.title('Training and validation accuracy')\n",
        "plt.xlabel('Epochs')\n",
        "plt.ylabel('Loss')\n",
        "plt.legend()\n",
        "plt.show()"
      ],
      "metadata": {
        "colab": {
          "base_uri": "https://localhost:8080/",
          "height": 472
        },
        "id": "ps2ToQ3MoqhD",
        "outputId": "70c36158-d11d-41dc-e573-071c86f5dcc2"
      },
      "execution_count": 87,
      "outputs": [
        {
          "output_type": "display_data",
          "data": {
            "text/plain": [
              "<Figure size 640x480 with 1 Axes>"
            ],
            "image/png": "[encoded data removed]"
          },
          "metadata": {}
        }
      ]
    },
    {
      "cell_type": "markdown",
      "source": [
        "#### Overfitting occurred. So, at the end of 4th epoch we have the effective parameters. Let's change the epochs to 4 and use the training data without splitting it into validation dataset. Finally, we need to test our model."
      ],
      "metadata": {
        "id": "vQjeHRWypEgg"
      }
    },
    {
      "cell_type": "code",
      "source": [
        "model = models.Sequential()\n",
        "model.add(layers.Dense(16, activation='relu', input_shape=(10000,)))\n",
        "model.add(layers.Dense(16, activation='relu'))\n",
        "model.add(layers.Dense(1, activation='sigmoid'))\n",
        "\n",
        "model.compile(optimizer='rmsprop', loss='binary_crossentropy', metrics=['accuracy'])\n",
        "model.fit(x_train, y_train, epochs=4, batch_size=512)\n",
        "results = model.evaluate(x_test, y_test)"
      ],
      "metadata": {
        "colab": {
          "base_uri": "https://localhost:8080/"
        },
        "id": "8iDr5okGpCiB",
        "outputId": "384e58c9-14be-453c-9060-89346c5bc24c"
      },
      "execution_count": 88,
      "outputs": [
        {
          "output_type": "stream",
          "name": "stdout",
          "text": [
            "Epoch 1/4\n",
            "49/49 [==============================] - 2s 30ms/step - loss: 0.4775 - accuracy: 0.8130\n",
            "Epoch 2/4\n",
            "49/49 [==============================] - 2s 36ms/step - loss: 0.2833 - accuracy: 0.8996\n",
            "Epoch 3/4\n",
            "49/49 [==============================] - 2s 33ms/step - loss: 0.2199 - accuracy: 0.9218\n",
            "Epoch 4/4\n",
            "49/49 [==============================] - 1s 24ms/step - loss: 0.1855 - accuracy: 0.9342\n",
            "782/782 [==============================] - 2s 2ms/step - loss: 0.2852 - accuracy: 0.8846\n"
          ]
        }
      ]
    },
    {
      "cell_type": "code",
      "source": [
        "results"
      ],
      "metadata": {
        "colab": {
          "base_uri": "https://localhost:8080/"
        },
        "id": "b6wsSWZ_perZ",
        "outputId": "e1aa78df-0de2-474b-86cd-2cd0d106b8cd"
      },
      "execution_count": 89,
      "outputs": [
        {
          "output_type": "execute_result",
          "data": {
            "text/plain": [
              "[0.2851592004299164, 0.8846399784088135]"
            ]
          },
          "metadata": {},
          "execution_count": 89
        }
      ]
    },
    {
      "cell_type": "code",
      "source": [
        "x_test[0].shape"
      ],
      "metadata": {
        "colab": {
          "base_uri": "https://localhost:8080/"
        },
        "id": "leN7s-Qipp46",
        "outputId": "97f93f26-c461-4b18-bc19-e2d18f0148d4"
      },
      "execution_count": 99,
      "outputs": [
        {
          "output_type": "execute_result",
          "data": {
            "text/plain": [
              "(10000,)"
            ]
          },
          "metadata": {},
          "execution_count": 99
        }
      ]
    },
    {
      "cell_type": "code",
      "source": [
        "model.predict(x_test[1].reshape(1,-1))"
      ],
      "metadata": {
        "colab": {
          "base_uri": "https://localhost:8080/"
        },
        "id": "ebFjxa8Cpf7z",
        "outputId": "9c0f8959-ab53-45e8-b6b0-e9004e18ab5c"
      },
      "execution_count": 103,
      "outputs": [
        {
          "output_type": "stream",
          "name": "stdout",
          "text": [
            "1/1 [==============================] - 0s 21ms/step\n"
          ]
        },
        {
          "output_type": "execute_result",
          "data": {
            "text/plain": [
              "array([[0.9997043]], dtype=float32)"
            ]
          },
          "metadata": {},
          "execution_count": 103
        }
      ]
    },
    {
      "cell_type": "code",
      "source": [],
      "metadata": {
        "id": "7rRUAEgdpncH"
      },
      "execution_count": null,
      "outputs": []
    },
    {
      "cell_type": "markdown",
      "source": [
        "### 3.5 Classifying newswires: a multiclass classification problem\n",
        "#### In the previous section, you saw how to classify vector inputs into two mutually exclu\u0002sive classes using a densely connected neural network. But what happens when you have more than two classes?\n",
        "\n",
        "#### In this section, you’ll build a network to classify Reuters newswires into 46 mutually exclusive topics. Because you have many classes, this problem is an instance of multiclass classification; and because each data point should be classified into only one category, the problem is more specifically an instance of single-label, multiclass classification. If each data point could belong to multiple categories (in this case, topics), you’d be facing a multilabel, multiclass classification problem."
      ],
      "metadata": {
        "id": "_IO-DI47qmIj"
      }
    },
    {
      "cell_type": "code",
      "source": [
        "from keras.datasets import reuters\n",
        "\n",
        "(train_data, train_labels), (test_data, test_labels) = reuters.load_data(num_words=10000)"
      ],
      "metadata": {
        "colab": {
          "base_uri": "https://localhost:8080/"
        },
        "id": "ZwzlouvLqq4v",
        "outputId": "39792b0c-c71a-488d-d111-bc264aae7c91"
      },
      "execution_count": 104,
      "outputs": [
        {
          "output_type": "stream",
          "name": "stdout",
          "text": [
            "Downloading data from https://storage.googleapis.com/tensorflow/tf-keras-datasets/reuters.npz\n",
            "2110848/2110848 [==============================] - 0s 0us/step\n"
          ]
        }
      ]
    },
    {
      "cell_type": "code",
      "source": [
        "print(train_data.shape)\n",
        "print(test_data.shape)"
      ],
      "metadata": {
        "colab": {
          "base_uri": "https://localhost:8080/"
        },
        "id": "8xXc4nper-z7",
        "outputId": "918e0c42-4ca0-42cf-d69b-77b98499a120"
      },
      "execution_count": 106,
      "outputs": [
        {
          "output_type": "stream",
          "name": "stdout",
          "text": [
            "(8982,)\n",
            "(2246,)\n"
          ]
        }
      ]
    },
    {
      "cell_type": "code",
      "source": [
        "print(train_data[0]) # Word indices"
      ],
      "metadata": {
        "colab": {
          "base_uri": "https://localhost:8080/"
        },
        "id": "PiQdWtIIsA_e",
        "outputId": "2bfb4095-4b26-4ce6-806c-eeb41a48d020"
      },
      "execution_count": 108,
      "outputs": [
        {
          "output_type": "stream",
          "name": "stdout",
          "text": [
            "[1, 2, 2, 8, 43, 10, 447, 5, 25, 207, 270, 5, 3095, 111, 16, 369, 186, 90, 67, 7, 89, 5, 19, 102, 6, 19, 124, 15, 90, 67, 84, 22, 482, 26, 7, 48, 4, 49, 8, 864, 39, 209, 154, 6, 151, 6, 83, 11, 15, 22, 155, 11, 15, 7, 48, 9, 4579, 1005, 504, 6, 258, 6, 272, 11, 15, 22, 134, 44, 11, 15, 16, 8, 197, 1245, 90, 67, 52, 29, 209, 30, 32, 132, 6, 109, 15, 17, 12]\n"
          ]
        }
      ]
    },
    {
      "cell_type": "code",
      "source": [
        "word_index = reuters.get_word_index()\n",
        "reverse_word_index = dict([(value, key) for (key, value) in word_index.items()])\n",
        "decoded_newswire = ' '.join([reverse_word_index.get(i - 3, '?') for i in train_data[0]])"
      ],
      "metadata": {
        "colab": {
          "base_uri": "https://localhost:8080/"
        },
        "id": "Wv3l9DSksGc9",
        "outputId": "0b9b8c93-a605-4d9b-8397-e95ab5d55c66"
      },
      "execution_count": 109,
      "outputs": [
        {
          "output_type": "stream",
          "name": "stdout",
          "text": [
            "Downloading data from https://storage.googleapis.com/tensorflow/tf-keras-datasets/reuters_word_index.json\n",
            "550378/550378 [==============================] - 0s 0us/step\n"
          ]
        }
      ]
    },
    {
      "cell_type": "code",
      "source": [
        "word_index[\"good\"]"
      ],
      "metadata": {
        "colab": {
          "base_uri": "https://localhost:8080/"
        },
        "id": "6BuL7VN4sTlx",
        "outputId": "69101a6d-be0f-48ae-c947-2d0f0e7ae1a5"
      },
      "execution_count": 110,
      "outputs": [
        {
          "output_type": "execute_result",
          "data": {
            "text/plain": [
              "545"
            ]
          },
          "metadata": {},
          "execution_count": 110
        }
      ]
    },
    {
      "cell_type": "code",
      "source": [
        "reverse_word_index[545]"
      ],
      "metadata": {
        "colab": {
          "base_uri": "https://localhost:8080/",
          "height": 36
        },
        "id": "Gm402L3TsW73",
        "outputId": "c52c2fcd-19c4-43bb-bb6e-e36cf39fb72c"
      },
      "execution_count": 111,
      "outputs": [
        {
          "output_type": "execute_result",
          "data": {
            "text/plain": [
              "'good'"
            ],
            "application/vnd.google.colaboratory.intrinsic+json": {
              "type": "string"
            }
          },
          "metadata": {},
          "execution_count": 111
        }
      ]
    },
    {
      "cell_type": "code",
      "source": [
        "print(\"First sample decoded: \", decoded_newswire)"
      ],
      "metadata": {
        "colab": {
          "base_uri": "https://localhost:8080/"
        },
        "id": "0hRZ5RlDsZ4S",
        "outputId": "5ad72e87-ec32-4a68-f94c-7df60bc4782a"
      },
      "execution_count": 113,
      "outputs": [
        {
          "output_type": "stream",
          "name": "stdout",
          "text": [
            "First sample decoded:  ? ? ? said as a result of its december acquisition of space co it expects earnings per share in 1987 of 1 15 to 1 30 dlrs per share up from 70 cts in 1986 the company said pretax net should rise to nine to 10 mln dlrs from six mln dlrs in 1986 and rental operation revenues to 19 to 22 mln dlrs from 12 5 mln dlrs it said cash flow per share this year should be 2 50 to three dlrs reuter 3\n"
          ]
        }
      ]
    },
    {
      "cell_type": "code",
      "source": [
        "# Data Preparation\n",
        "x_train = vectorize_sequences(train_data) # Function has been implemented in 3.4\n",
        "x_test = vectorize_sequences(test_data)"
      ],
      "metadata": {
        "id": "D5UhjiR2skYt"
      },
      "execution_count": 114,
      "outputs": []
    },
    {
      "cell_type": "code",
      "source": [
        "# to_categorical function has been imported in 2.1\n",
        "one_hot_train_labels = to_categorical(train_labels)\n",
        "one_hot_test_labels = to_categorical(test_labels)"
      ],
      "metadata": {
        "id": "2YT45zA7s8gR"
      },
      "execution_count": 116,
      "outputs": []
    },
    {
      "cell_type": "code",
      "source": [
        "# Model building\n",
        "model = models.Sequential()\n",
        "model.add(layers.Dense(64, activation='relu', input_shape=(10000,)))\n",
        "model.add(layers.Dense(64, activation='relu'))\n",
        "model.add(layers.Dense(46, activation='softmax'))"
      ],
      "metadata": {
        "id": "F87gkiNWtJee"
      },
      "execution_count": 117,
      "outputs": []
    },
    {
      "cell_type": "code",
      "source": [
        "# Compilation\n",
        "model.compile(optimizer='rmsprop', loss='categorical_crossentropy', metrics=['accuracy'])"
      ],
      "metadata": {
        "id": "KEkVpkgXteij"
      },
      "execution_count": 118,
      "outputs": []
    },
    {
      "cell_type": "code",
      "source": [
        "# Validation data\n",
        "x_val = x_train[:1000]\n",
        "partial_x_train = x_train[1000:]\n",
        "y_val = one_hot_train_labels[:1000]\n",
        "partial_y_train = one_hot_train_labels[1000:]"
      ],
      "metadata": {
        "id": "iNc8QV78thb8"
      },
      "execution_count": 119,
      "outputs": []
    },
    {
      "cell_type": "code",
      "source": [
        "# Training\n",
        "history = model.fit(partial_x_train, partial_y_train, epochs=20, batch_size=512,\n",
        "                    validation_data=(x_val, y_val))"
      ],
      "metadata": {
        "colab": {
          "base_uri": "https://localhost:8080/"
        },
        "id": "P_yT5EgbtkDp",
        "outputId": "522901f6-9233-4302-8acf-3505a736abed"
      },
      "execution_count": 120,
      "outputs": [
        {
          "output_type": "stream",
          "name": "stdout",
          "text": [
            "Epoch 1/20\n",
            "16/16 [==============================] - 2s 97ms/step - loss: 2.7469 - accuracy: 0.5182 - val_loss: 1.8357 - val_accuracy: 0.6160\n",
            "Epoch 2/20\n",
            "16/16 [==============================] - 1s 49ms/step - loss: 1.5626 - accuracy: 0.6756 - val_loss: 1.4121 - val_accuracy: 0.6950\n",
            "Epoch 3/20\n",
            "16/16 [==============================] - 1s 51ms/step - loss: 1.1997 - accuracy: 0.7484 - val_loss: 1.2053 - val_accuracy: 0.7380\n",
            "Epoch 4/20\n",
            "16/16 [==============================] - 1s 51ms/step - loss: 0.9852 - accuracy: 0.7892 - val_loss: 1.0980 - val_accuracy: 0.7600\n",
            "Epoch 5/20\n",
            "16/16 [==============================] - 1s 48ms/step - loss: 0.8274 - accuracy: 0.8160 - val_loss: 1.0171 - val_accuracy: 0.7780\n",
            "Epoch 6/20\n",
            "16/16 [==============================] - 1s 50ms/step - loss: 0.6977 - accuracy: 0.8477 - val_loss: 0.9645 - val_accuracy: 0.7840\n",
            "Epoch 7/20\n",
            "16/16 [==============================] - 1s 47ms/step - loss: 0.5898 - accuracy: 0.8756 - val_loss: 0.9533 - val_accuracy: 0.7950\n",
            "Epoch 8/20\n",
            "16/16 [==============================] - 1s 50ms/step - loss: 0.5022 - accuracy: 0.8956 - val_loss: 0.9141 - val_accuracy: 0.8080\n",
            "Epoch 9/20\n",
            "16/16 [==============================] - 1s 48ms/step - loss: 0.4252 - accuracy: 0.9094 - val_loss: 0.8845 - val_accuracy: 0.8120\n",
            "Epoch 10/20\n",
            "16/16 [==============================] - 1s 47ms/step - loss: 0.3629 - accuracy: 0.9221 - val_loss: 0.8992 - val_accuracy: 0.8130\n",
            "Epoch 11/20\n",
            "16/16 [==============================] - 1s 47ms/step - loss: 0.3128 - accuracy: 0.9320 - val_loss: 0.8838 - val_accuracy: 0.8180\n",
            "Epoch 12/20\n",
            "16/16 [==============================] - 1s 51ms/step - loss: 0.2777 - accuracy: 0.9386 - val_loss: 0.8851 - val_accuracy: 0.8170\n",
            "Epoch 13/20\n",
            "16/16 [==============================] - 1s 49ms/step - loss: 0.2409 - accuracy: 0.9453 - val_loss: 0.8749 - val_accuracy: 0.8220\n",
            "Epoch 14/20\n",
            "16/16 [==============================] - 1s 64ms/step - loss: 0.2192 - accuracy: 0.9471 - val_loss: 0.8968 - val_accuracy: 0.8120\n",
            "Epoch 15/20\n",
            "16/16 [==============================] - 1s 82ms/step - loss: 0.1973 - accuracy: 0.9485 - val_loss: 0.8861 - val_accuracy: 0.8220\n",
            "Epoch 16/20\n",
            "16/16 [==============================] - 1s 73ms/step - loss: 0.1803 - accuracy: 0.9498 - val_loss: 0.8895 - val_accuracy: 0.8210\n",
            "Epoch 17/20\n",
            "16/16 [==============================] - 1s 48ms/step - loss: 0.1680 - accuracy: 0.9531 - val_loss: 0.9137 - val_accuracy: 0.8120\n",
            "Epoch 18/20\n",
            "16/16 [==============================] - 1s 48ms/step - loss: 0.1548 - accuracy: 0.9551 - val_loss: 0.9105 - val_accuracy: 0.8210\n",
            "Epoch 19/20\n",
            "16/16 [==============================] - 1s 48ms/step - loss: 0.1486 - accuracy: 0.9546 - val_loss: 0.9143 - val_accuracy: 0.8170\n",
            "Epoch 20/20\n",
            "16/16 [==============================] - 1s 48ms/step - loss: 0.1405 - accuracy: 0.9570 - val_loss: 0.9513 - val_accuracy: 0.8090\n"
          ]
        }
      ]
    },
    {
      "cell_type": "code",
      "source": [
        "loss = history.history['loss']\n",
        "val_loss = history.history['val_loss']\n",
        "epochs = range(1, len(loss) + 1)\n",
        "\n",
        "plt.plot(epochs, loss, 'bo', label='Training loss')\n",
        "plt.plot(epochs, val_loss, 'b', label='Validation loss')\n",
        "plt.title('Training and validation loss')\n",
        "plt.xlabel('Epochs')\n",
        "plt.ylabel('Loss')\n",
        "plt.legend()\n",
        "plt.show()"
      ],
      "metadata": {
        "colab": {
          "base_uri": "https://localhost:8080/",
          "height": 472
        },
        "id": "UqD7gud7tqn_",
        "outputId": "2b77a68b-e12a-4960-edda-5abe4970f3e7"
      },
      "execution_count": 121,
      "outputs": [
        {
          "output_type": "display_data",
          "data": {
            "text/plain": [
              "<Figure size 640x480 with 1 Axes>"
            ],
            "image/png": "[encoded data removed]"
          },
          "metadata": {}
        }
      ]
    },
    {
      "cell_type": "code",
      "source": [
        "history.history.keys()"
      ],
      "metadata": {
        "colab": {
          "base_uri": "https://localhost:8080/"
        },
        "id": "rydVlt9ZuBgs",
        "outputId": "83f37ea1-2b4e-429c-e4e6-f42dad433530"
      },
      "execution_count": 124,
      "outputs": [
        {
          "output_type": "execute_result",
          "data": {
            "text/plain": [
              "dict_keys(['loss', 'accuracy', 'val_loss', 'val_accuracy'])"
            ]
          },
          "metadata": {},
          "execution_count": 124
        }
      ]
    },
    {
      "cell_type": "code",
      "source": [
        "acc = history.history['accuracy']\n",
        "val_acc = history.history['val_accuracy']\n",
        "\n",
        "plt.plot(epochs, acc, 'bo', label='Training acc')\n",
        "plt.plot(epochs, val_acc, 'b', label='Validation acc')\n",
        "plt.title('Training and validation accuracy')\n",
        "plt.xlabel('Epochs')\n",
        "plt.ylabel('Loss')\n",
        "plt.legend()\n",
        "plt.show()"
      ],
      "metadata": {
        "colab": {
          "base_uri": "https://localhost:8080/",
          "height": 472
        },
        "id": "uqyuMc81t8Wk",
        "outputId": "67acfc34-4b32-4ba6-8b00-ad8ffc7ae06e"
      },
      "execution_count": 125,
      "outputs": [
        {
          "output_type": "display_data",
          "data": {
            "text/plain": [
              "<Figure size 640x480 with 1 Axes>"
            ],
            "image/png": "[encoded data removed]"
          },
          "metadata": {}
        }
      ]
    },
    {
      "cell_type": "markdown",
      "source": [
        "#### The network begins to overfit after ten epochs. Let’s train a new network from scratch for nine epochs and then evaluate it on the test set."
      ],
      "metadata": {
        "id": "eH2Nl9lbuXV0"
      }
    },
    {
      "cell_type": "code",
      "source": [
        "model = models.Sequential()\n",
        "model.add(layers.Dense(64, activation='relu', input_shape=(10000,)))\n",
        "model.add(layers.Dense(64, activation='relu'))\n",
        "model.add(layers.Dense(46, activation='softmax'))\n",
        "\n",
        "model.compile(optimizer='rmsprop', loss='categorical_crossentropy', metrics=['accuracy'])\n",
        "model.fit(partial_x_train, partial_y_train, epochs=9, batch_size=512, validation_data=(x_val, y_val))\n",
        "\n",
        "results = model.evaluate(x_test, one_hot_test_labels)"
      ],
      "metadata": {
        "colab": {
          "base_uri": "https://localhost:8080/"
        },
        "id": "PCal19npt_He",
        "outputId": "80ff4f3b-369c-4ebd-fccc-54383489cfda"
      },
      "execution_count": 126,
      "outputs": [
        {
          "output_type": "stream",
          "name": "stdout",
          "text": [
            "Epoch 1/9\n",
            "16/16 [==============================] - 2s 70ms/step - loss: 2.7606 - accuracy: 0.4645 - val_loss: 1.8828 - val_accuracy: 0.6280\n",
            "Epoch 2/9\n",
            "16/16 [==============================] - 1s 50ms/step - loss: 1.5825 - accuracy: 0.6709 - val_loss: 1.4067 - val_accuracy: 0.6780\n",
            "Epoch 3/9\n",
            "16/16 [==============================] - 1s 48ms/step - loss: 1.2091 - accuracy: 0.7382 - val_loss: 1.1992 - val_accuracy: 0.7350\n",
            "Epoch 4/9\n",
            "16/16 [==============================] - 1s 52ms/step - loss: 0.9899 - accuracy: 0.7898 - val_loss: 1.0735 - val_accuracy: 0.7690\n",
            "Epoch 5/9\n",
            "16/16 [==============================] - 1s 82ms/step - loss: 0.8254 - accuracy: 0.8215 - val_loss: 1.0015 - val_accuracy: 0.7880\n",
            "Epoch 6/9\n",
            "16/16 [==============================] - 1s 85ms/step - loss: 0.6866 - accuracy: 0.8517 - val_loss: 0.9484 - val_accuracy: 0.7930\n",
            "Epoch 7/9\n",
            "16/16 [==============================] - 1s 48ms/step - loss: 0.5789 - accuracy: 0.8773 - val_loss: 0.8998 - val_accuracy: 0.8070\n",
            "Epoch 8/9\n",
            "16/16 [==============================] - 1s 51ms/step - loss: 0.4866 - accuracy: 0.8990 - val_loss: 0.8833 - val_accuracy: 0.8010\n",
            "Epoch 9/9\n",
            "16/16 [==============================] - 1s 47ms/step - loss: 0.4091 - accuracy: 0.9143 - val_loss: 0.8722 - val_accuracy: 0.8200\n",
            "71/71 [==============================] - 0s 3ms/step - loss: 0.9456 - accuracy: 0.7885\n"
          ]
        }
      ]
    },
    {
      "cell_type": "code",
      "source": [
        "results"
      ],
      "metadata": {
        "colab": {
          "base_uri": "https://localhost:8080/"
        },
        "id": "SNjT7NqpuiAO",
        "outputId": "b0d835a5-579e-4771-d9b9-d92342dad7f3"
      },
      "execution_count": 127,
      "outputs": [
        {
          "output_type": "execute_result",
          "data": {
            "text/plain": [
              "[0.9455820918083191, 0.7885128855705261]"
            ]
          },
          "metadata": {},
          "execution_count": 127
        }
      ]
    },
    {
      "cell_type": "code",
      "source": [
        "# Our model is ready, let's make a prediction\n",
        "pred = model.predict(x_test[0].reshape(1,-1))\n",
        "pred"
      ],
      "metadata": {
        "colab": {
          "base_uri": "https://localhost:8080/"
        },
        "id": "0tHEUG4dulL9",
        "outputId": "53b15a87-024d-42b3-8b71-44641ac87d4a"
      },
      "execution_count": 128,
      "outputs": [
        {
          "output_type": "stream",
          "name": "stdout",
          "text": [
            "1/1 [==============================] - 0s 58ms/step\n"
          ]
        },
        {
          "output_type": "execute_result",
          "data": {
            "text/plain": [
              "array([[3.9885672e-06, 1.1126393e-04, 3.8953249e-06, 9.5708185e-01,\n",
              "        3.5486188e-02, 2.7843451e-05, 9.3573522e-05, 2.6998872e-05,\n",
              "        1.7324663e-03, 5.6083933e-05, 1.7291088e-04, 3.7293654e-04,\n",
              "        7.8531608e-05, 3.0814265e-04, 3.5097903e-05, 3.1206048e-06,\n",
              "        9.3904551e-04, 1.2310897e-04, 4.0379797e-05, 2.1423196e-04,\n",
              "        1.9306240e-04, 3.8160649e-04, 2.9352592e-05, 4.2070835e-05,\n",
              "        3.2093525e-05, 5.1669947e-05, 1.7420904e-06, 9.4928009e-06,\n",
              "        2.9688339e-05, 1.4901941e-04, 1.1271185e-03, 7.2503084e-05,\n",
              "        1.9307059e-05, 5.3819040e-06, 1.3831326e-04, 2.1347581e-05,\n",
              "        4.7140266e-04, 1.1379287e-05, 4.5780311e-05, 1.9819548e-04,\n",
              "        1.3261602e-05, 9.5058094e-06, 2.1177786e-06, 2.7976243e-05,\n",
              "        1.1378239e-06, 3.8033556e-06]], dtype=float32)"
            ]
          },
          "metadata": {},
          "execution_count": 128
        }
      ]
    },
    {
      "cell_type": "code",
      "source": [
        "np.sum(pred) # approximately 100 percentages"
      ],
      "metadata": {
        "colab": {
          "base_uri": "https://localhost:8080/"
        },
        "id": "_FHKOIM6v4np",
        "outputId": "39d7fbcf-d039-4dd9-8695-690b2ba76ed8"
      },
      "execution_count": 130,
      "outputs": [
        {
          "output_type": "execute_result",
          "data": {
            "text/plain": [
              "0.99999994"
            ]
          },
          "metadata": {},
          "execution_count": 130
        }
      ]
    },
    {
      "cell_type": "code",
      "source": [
        "np.argmax(pred) # The predicted label is 3"
      ],
      "metadata": {
        "colab": {
          "base_uri": "https://localhost:8080/"
        },
        "id": "pQ4U3dn4v7Bb",
        "outputId": "f37bddbc-15dd-4338-9e90-1c5cf474ccda"
      },
      "execution_count": 131,
      "outputs": [
        {
          "output_type": "execute_result",
          "data": {
            "text/plain": [
              "3"
            ]
          },
          "metadata": {},
          "execution_count": 131
        }
      ]
    },
    {
      "cell_type": "code",
      "source": [
        "test_labels[0] # The actual label is also 3"
      ],
      "metadata": {
        "colab": {
          "base_uri": "https://localhost:8080/"
        },
        "id": "XLVmAPcywBjI",
        "outputId": "a0556578-523f-416f-a92f-dbdcdc235db0"
      },
      "execution_count": 135,
      "outputs": [
        {
          "output_type": "execute_result",
          "data": {
            "text/plain": [
              "3"
            ]
          },
          "metadata": {},
          "execution_count": 135
        }
      ]
    },
    {
      "cell_type": "markdown",
      "source": [
        "#### A different way to handle the labels and the loss\n",
        "\n",
        "#### We mentioned earlier that another way to encode the labels would be to cast them as an integer tensor, like this: <br>\n",
        "\n",
        "- y_train = np.array(train_labels) <br>\n",
        "- y_test = np.array(test_labels) <br>\n",
        "\n",
        "#### The only thing this approach would change is the choice of the loss function. The loss function used in listing 3.2, categorical_crossentropy, expects the labels to follow a categorical encoding. With integer labels, you should use sparse_categorical_crossentropy: <br>\n",
        "\n",
        "- model.compile(optimizer='rmsprop',\n",
        "loss='sparse_categorical_crossentropy',\n",
        "metrics=['acc']) <br>\n",
        "\n",
        "#### This new loss function is still mathematically the same as categorical_crossentropy; it just has a different interface."
      ],
      "metadata": {
        "id": "MNiKK6fcwj24"
      }
    },
    {
      "cell_type": "markdown",
      "source": [
        "#### The importance of having sufficiently large intermediate layers."
      ],
      "metadata": {
        "id": "0RVeWzjIw57K"
      }
    },
    {
      "cell_type": "code",
      "source": [
        "model = models.Sequential()\n",
        "model.add(layers.Dense(64, activation='relu', input_shape=(10000,)))\n",
        "model.add(layers.Dense(4, activation='relu'))\n",
        "model.add(layers.Dense(46, activation='softmax'))\n",
        "\n",
        "model.compile(optimizer='rmsprop', loss='categorical_crossentropy', metrics=['accuracy'])\n",
        "model.fit(partial_x_train, partial_y_train, epochs=20, batch_size=128, validation_data=(x_val, y_val))"
      ],
      "metadata": {
        "colab": {
          "base_uri": "https://localhost:8080/"
        },
        "id": "TxNXV0GswIBI",
        "outputId": "211b5f62-10e6-4c39-c01f-8745dbe3ed2b"
      },
      "execution_count": 136,
      "outputs": [
        {
          "output_type": "stream",
          "name": "stdout",
          "text": [
            "Epoch 1/20\n",
            "63/63 [==============================] - 3s 33ms/step - loss: 2.9254 - accuracy: 0.3143 - val_loss: 2.1313 - val_accuracy: 0.5150\n",
            "Epoch 2/20\n",
            "63/63 [==============================] - 1s 19ms/step - loss: 1.7621 - accuracy: 0.5867 - val_loss: 1.5553 - val_accuracy: 0.5950\n",
            "Epoch 3/20\n",
            "63/63 [==============================] - 1s 17ms/step - loss: 1.3720 - accuracy: 0.6409 - val_loss: 1.3996 - val_accuracy: 0.6450\n",
            "Epoch 4/20\n",
            "63/63 [==============================] - 1s 16ms/step - loss: 1.1767 - accuracy: 0.7088 - val_loss: 1.3096 - val_accuracy: 0.6860\n",
            "Epoch 5/20\n",
            "63/63 [==============================] - 1s 16ms/step - loss: 1.0501 - accuracy: 0.7438 - val_loss: 1.2714 - val_accuracy: 0.6950\n",
            "Epoch 6/20\n",
            "63/63 [==============================] - 1s 17ms/step - loss: 0.9541 - accuracy: 0.7581 - val_loss: 1.2462 - val_accuracy: 0.7050\n",
            "Epoch 7/20\n",
            "63/63 [==============================] - 1s 16ms/step - loss: 0.8765 - accuracy: 0.7741 - val_loss: 1.2463 - val_accuracy: 0.6960\n",
            "Epoch 8/20\n",
            "63/63 [==============================] - 1s 16ms/step - loss: 0.8124 - accuracy: 0.7960 - val_loss: 1.2946 - val_accuracy: 0.7050\n",
            "Epoch 9/20\n",
            "63/63 [==============================] - 1s 16ms/step - loss: 0.7547 - accuracy: 0.8083 - val_loss: 1.2493 - val_accuracy: 0.7110\n",
            "Epoch 10/20\n",
            "63/63 [==============================] - 1s 16ms/step - loss: 0.7066 - accuracy: 0.8166 - val_loss: 1.2404 - val_accuracy: 0.7210\n",
            "Epoch 11/20\n",
            "63/63 [==============================] - 1s 19ms/step - loss: 0.6668 - accuracy: 0.8217 - val_loss: 1.2674 - val_accuracy: 0.7080\n",
            "Epoch 12/20\n",
            "63/63 [==============================] - 2s 27ms/step - loss: 0.6285 - accuracy: 0.8270 - val_loss: 1.2630 - val_accuracy: 0.7110\n",
            "Epoch 13/20\n",
            "63/63 [==============================] - 1s 21ms/step - loss: 0.5963 - accuracy: 0.8297 - val_loss: 1.2941 - val_accuracy: 0.7130\n",
            "Epoch 14/20\n",
            "63/63 [==============================] - 1s 16ms/step - loss: 0.5679 - accuracy: 0.8341 - val_loss: 1.3365 - val_accuracy: 0.7100\n",
            "Epoch 15/20\n",
            "63/63 [==============================] - 1s 17ms/step - loss: 0.5430 - accuracy: 0.8373 - val_loss: 1.3661 - val_accuracy: 0.7070\n",
            "Epoch 16/20\n",
            "63/63 [==============================] - 1s 17ms/step - loss: 0.5222 - accuracy: 0.8457 - val_loss: 1.4208 - val_accuracy: 0.7080\n",
            "Epoch 17/20\n",
            "63/63 [==============================] - 1s 17ms/step - loss: 0.5005 - accuracy: 0.8534 - val_loss: 1.4852 - val_accuracy: 0.7030\n",
            "Epoch 18/20\n",
            "63/63 [==============================] - 1s 17ms/step - loss: 0.4842 - accuracy: 0.8579 - val_loss: 1.4267 - val_accuracy: 0.7040\n",
            "Epoch 19/20\n",
            "63/63 [==============================] - 1s 16ms/step - loss: 0.4648 - accuracy: 0.8649 - val_loss: 1.5028 - val_accuracy: 0.7080\n",
            "Epoch 20/20\n",
            "63/63 [==============================] - 1s 16ms/step - loss: 0.4519 - accuracy: 0.8707 - val_loss: 1.5810 - val_accuracy: 0.7120\n"
          ]
        },
        {
          "output_type": "execute_result",
          "data": {
            "text/plain": [
              "<keras.src.callbacks.History at 0x7ad42d94c5b0>"
            ]
          },
          "metadata": {},
          "execution_count": 136
        }
      ]
    },
    {
      "cell_type": "markdown",
      "source": [
        "#### The network now peaks at ~71% validation accuracy, an 8% absolute drop. This drop is mostly due to the fact that you’re trying to compress a lot of information (enough information to recover the separation hyperplanes of 46 classes) into an intermediate space that is too low-dimensional."
      ],
      "metadata": {
        "id": "t37E5mpQxamU"
      }
    },
    {
      "cell_type": "markdown",
      "source": [
        "### 3.6"
      ],
      "metadata": {
        "id": "hLN67N9gxmU-"
      }
    },
    {
      "cell_type": "code",
      "source": [],
      "metadata": {
        "id": "miYNXa7rxVsG"
      },
      "execution_count": null,
      "outputs": []
    }
  ]
}